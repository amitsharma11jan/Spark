{
 "cells": [
  {
   "attachments": {},
   "cell_type": "markdown",
   "metadata": {},
   "source": [
    "#### Question 4:\n",
    "\n",
    "Consider the Movie Similarities code and problem that was discussed during the class (Session 4). Please provide a brief write-up on the problem, steps needed to arrive at the solution (recommendation system), and how exactly those steps are implemented in the code. While you are doing so, please also mention what each line of code does (It is not sufficient to mention what each block of code does, you would have to provide explanation for each line).\n",
    "\n",
    "#### Answer:\n",
    "\n",
    "Movie Similarities code is for item - item collaborating filtering based recommendation system for IMDB. Collaborative filtering is used to recommend new movie (item) based on the similarity of the users. This code calculates cosine similarity for the two movies. This code will recommend user to Top N similar movie for the given movie.\n",
    "\n",
    "Item - item collaborating filtering look for movies that are similar to the movie that user has already rated and recommend most similar movies. \n",
    "\n",
    "Similarity between movies is decided by looking at how other users have rated them.\n",
    "\n",
    "For Similarity computation, there are many method like Euclidian similarity, Cosine similarity and Correlation coefficient etc. But in this code we used Cosine similarity.\n",
    "\n",
    "similarity = sum(rating1 . rating2) / sqrt(sum(rating1^2)) . sqrt(sum(rating2^2))\n",
    "\n",
    "#### Amit Kumar Sharma\n",
    "#### PGID: 71721079 \n"
   ]
  },
  {
   "cell_type": "code",
   "execution_count": 1,
   "metadata": {
    "collapsed": true
   },
   "outputs": [],
   "source": [
    "import os\n",
    "import numpy as np"
   ]
  },
  {
   "cell_type": "markdown",
   "metadata": {},
   "source": [
    "Load Data into data RDD."
   ]
  },
  {
   "cell_type": "code",
   "execution_count": 2,
   "metadata": {},
   "outputs": [],
   "source": [
    "os.getcwd()\n",
    "data = sc.textFile(\"file:///Users/a5sharma/Documents/ISB/BDM/HWAssignment/Assignment/data/u.data\")"
   ]
  },
  {
   "cell_type": "code",
   "execution_count": 3,
   "metadata": {},
   "outputs": [
    {
     "data": {
      "text/plain": [
       "[u'196\\t242\\t3\\t881250949',\n",
       " u'186\\t302\\t3\\t891717742',\n",
       " u'22\\t377\\t1\\t878887116',\n",
       " u'244\\t51\\t2\\t880606923',\n",
       " u'166\\t346\\t1\\t886397596',\n",
       " u'298\\t474\\t4\\t884182806',\n",
       " u'115\\t265\\t2\\t881171488',\n",
       " u'253\\t465\\t5\\t891628467',\n",
       " u'305\\t451\\t3\\t886324817',\n",
       " u'6\\t86\\t3\\t883603013']"
      ]
     },
     "execution_count": 3,
     "metadata": {},
     "output_type": "execute_result"
    }
   ],
   "source": [
    "data.take(10)"
   ]
  },
  {
   "attachments": {},
   "cell_type": "markdown",
   "metadata": {},
   "source": [
    "As data in data RDD in tab separated format, make a tuple of (userId, (movieId, Rating)). Because we want to recommend similar movies which more than 2 users rated."
   ]
  },
  {
   "cell_type": "code",
   "execution_count": 4,
   "metadata": {},
   "outputs": [
    {
     "data": {
      "text/plain": [
       "[(196, (242, 3.0)),\n",
       " (186, (302, 3.0)),\n",
       " (22, (377, 1.0)),\n",
       " (244, (51, 2.0)),\n",
       " (166, (346, 1.0)),\n",
       " (298, (474, 4.0)),\n",
       " (115, (265, 2.0)),\n",
       " (253, (465, 5.0)),\n",
       " (305, (451, 3.0)),\n",
       " (6, (86, 3.0))]"
      ]
     },
     "execution_count": 4,
     "metadata": {},
     "output_type": "execute_result"
    }
   ],
   "source": [
    "ratings= data.map(lambda x: x.split()).map(lambda x: (int(x[0]), (int(x[1]),float(x[2]))))\n",
    "ratings.take(10)"
   ]
  },
  {
   "cell_type": "markdown",
   "metadata": {},
   "source": [
    "Join rating rdd with rating rdd to find out all combination of movie and ratings."
   ]
  },
  {
   "cell_type": "code",
   "execution_count": 5,
   "metadata": {},
   "outputs": [
    {
     "data": {
      "text/plain": [
       "[(512, ((265, 4.0), (265, 4.0))),\n",
       " (512, ((265, 4.0), (23, 4.0))),\n",
       " (512, ((265, 4.0), (1, 4.0))),\n",
       " (512, ((265, 4.0), (198, 5.0))),\n",
       " (512, ((265, 4.0), (318, 5.0))),\n",
       " (512, ((265, 4.0), (11, 5.0))),\n",
       " (512, ((265, 4.0), (1459, 4.0))),\n",
       " (512, ((265, 4.0), (313, 3.0))),\n",
       " (512, ((265, 4.0), (97, 5.0))),\n",
       " (512, ((265, 4.0), (191, 4.0)))]"
      ]
     },
     "execution_count": 5,
     "metadata": {},
     "output_type": "execute_result"
    }
   ],
   "source": [
    "joinedRatings= ratings.join(ratings)\n",
    "joinedRatings.take(10)"
   ]
  },
  {
   "attachments": {},
   "cell_type": "markdown",
   "metadata": {},
   "source": [
    "Remove duplicate pairs from joinedRatings RDD. filterDuplicates method compare movie1 and movie2 and fetch only distict movies and rating."
   ]
  },
  {
   "cell_type": "code",
   "execution_count": 6,
   "metadata": {
    "collapsed": true
   },
   "outputs": [],
   "source": [
    "def filterDuplicates( (userID, ratings) ):\n",
    "    (movie1, rating1) = ratings[0]\n",
    "    (movie2, rating2) = ratings[1]\n",
    "    return movie1 < movie2"
   ]
  },
  {
   "cell_type": "code",
   "execution_count": 7,
   "metadata": {},
   "outputs": [
    {
     "data": {
      "text/plain": [
       "[(512, ((265, 4.0), (318, 5.0))),\n",
       " (512, ((265, 4.0), (1459, 4.0))),\n",
       " (512, ((265, 4.0), (313, 3.0))),\n",
       " (512, ((265, 4.0), (527, 5.0))),\n",
       " (512, ((265, 4.0), (302, 4.0))),\n",
       " (512, ((265, 4.0), (273, 5.0))),\n",
       " (512, ((265, 4.0), (286, 5.0))),\n",
       " (512, ((265, 4.0), (325, 2.0))),\n",
       " (512, ((265, 4.0), (1238, 4.0))),\n",
       " (512, ((23, 4.0), (265, 4.0)))]"
      ]
     },
     "execution_count": 7,
     "metadata": {},
     "output_type": "execute_result"
    }
   ],
   "source": [
    "uniqueJoinedRatings = joinedRatings.filter(filterDuplicates)\n",
    "uniqueJoinedRatings.take(10)"
   ]
  },
  {
   "attachments": {},
   "cell_type": "markdown",
   "metadata": {},
   "source": [
    "As we want to recommend similar movies for a given movie, that's why we don't need user information. Make pair of ((movie1, movie2), (rating1, rating2)) for each users instead of (user1, (movie1, rating1), (movie2, rating2))."
   ]
  },
  {
   "cell_type": "code",
   "execution_count": 8,
   "metadata": {
    "collapsed": true
   },
   "outputs": [],
   "source": [
    "def makePairs((user, ratings)):\n",
    "    (movie1, rating1) = ratings[0]\n",
    "    (movie2, rating2) = ratings[1]\n",
    "    return ((movie1, movie2), (rating1, rating2))"
   ]
  },
  {
   "cell_type": "code",
   "execution_count": 9,
   "metadata": {},
   "outputs": [
    {
     "data": {
      "text/plain": [
       "[((265, 318), (4.0, 5.0)),\n",
       " ((265, 1459), (4.0, 4.0)),\n",
       " ((265, 313), (4.0, 3.0)),\n",
       " ((265, 527), (4.0, 5.0)),\n",
       " ((265, 302), (4.0, 4.0)),\n",
       " ((265, 273), (4.0, 5.0)),\n",
       " ((265, 286), (4.0, 5.0)),\n",
       " ((265, 325), (4.0, 2.0)),\n",
       " ((265, 1238), (4.0, 4.0)),\n",
       " ((23, 265), (4.0, 4.0))]"
      ]
     },
     "execution_count": 9,
     "metadata": {},
     "output_type": "execute_result"
    }
   ],
   "source": [
    "# Now key by (movie1, movie2) pairs.\n",
    "moviePairs = uniqueJoinedRatings.map(makePairs)\n",
    "moviePairs.take(10)"
   ]
  },
  {
   "attachments": {},
   "cell_type": "markdown",
   "metadata": {},
   "source": [
    "Group all the Ratings by two movies combination (movie1, movie2). This will make RDD of Keys (movie1, movie2) and list of ratings for both movies."
   ]
  },
  {
   "cell_type": "code",
   "execution_count": 10,
   "metadata": {
    "collapsed": true
   },
   "outputs": [],
   "source": [
    "# We now have (movie1, movie2) => (rating1, rating2)\n",
    "# Now collect all ratings for each movie pair and compute similarity\n",
    "moviePairRatings = moviePairs.groupByKey()"
   ]
  },
  {
   "cell_type": "code",
   "execution_count": 11,
   "metadata": {},
   "outputs": [
    {
     "data": {
      "text/plain": [
       "[((265, 592),\n",
       "  [(5.0, 4.0),\n",
       "   (5.0, 3.0),\n",
       "   (3.0, 3.0),\n",
       "   (5.0, 3.0),\n",
       "   (2.0, 1.0),\n",
       "   (5.0, 5.0),\n",
       "   (5.0, 5.0)])]"
      ]
     },
     "execution_count": 11,
     "metadata": {},
     "output_type": "execute_result"
    }
   ],
   "source": [
    "moviePairRatings.filter(lambda x : x[0][0] == 265 and x[0][1] ==592).map(lambda x: (x[0], [i for i in x[1]])).take(10)"
   ]
  },
  {
   "attachments": {},
   "cell_type": "markdown",
   "metadata": {},
   "source": [
    "#### Compute Similarity\n",
    "\n",
    "Now we have data for all the 2 movies combination and their ratings for all the users. Now we can compute simalarity of these movies combination.\n",
    "\n",
    "This computeCosineSimilarity method executes for all the movies combination and calculate similarities (co-relationship) between 2 movies. This method return a tuple of similartity score and no of occurance for similar movies combination in the dataset.\n",
    "\n",
    "Formula for Similarity score is:<br>\n",
    "similarity = sum(rating1 . rating2) / sqrt(sum(rating1^2)) . sqrt(sum(rating2^2))\n",
    "\n",
    "\n",
    "Apply computeCosineSimilarity function on each movies pair and make moviePairSimilarities RDD."
   ]
  },
  {
   "cell_type": "code",
   "execution_count": 12,
   "metadata": {
    "collapsed": true
   },
   "outputs": [],
   "source": [
    "def computeCosineSimilarity(ratingPairs):\n",
    "    numPairs = 0\n",
    "    sum_xx = sum_yy = sum_xy = 0\n",
    "    for ratingX, ratingY in ratingPairs:\n",
    "        sum_xx += ratingX * ratingX\n",
    "        sum_yy += ratingY * ratingY\n",
    "        sum_xy += ratingX * ratingY\n",
    "        numPairs += 1\n",
    "\n",
    "    numerator = sum_xy\n",
    "    denominator = np.sqrt(sum_xx) * np.sqrt(sum_yy)\n",
    "\n",
    "    score = 0\n",
    "    if (denominator):\n",
    "        score = (numerator / (float(denominator)))\n",
    "\n",
    "    return (score, numPairs)\n",
    "\n",
    "moviePairSimilarities = moviePairRatings.mapValues(computeCosineSimilarity).cache()"
   ]
  },
  {
   "cell_type": "code",
   "execution_count": 13,
   "metadata": {},
   "outputs": [
    {
     "data": {
      "text/plain": [
       "[((197, 1097), (0.9758729093599599, 7)),\n",
       " ((42, 364), (0.9093486560398836, 18)),\n",
       " ((773, 1409), (1.0, 1)),\n",
       " ((273, 617), (0.9652953599007105, 7)),\n",
       " ((372, 974), (1.0, 1))]"
      ]
     },
     "execution_count": 13,
     "metadata": {},
     "output_type": "execute_result"
    }
   ],
   "source": [
    "moviePairSimilarities.take(5)"
   ]
  },
  {
   "cell_type": "markdown",
   "metadata": {},
   "source": [
    "#### loadMovieNames method:\n",
    "\n",
    "This method is used to load u.item dataset and returns a dictionary of all the movie names and movie id. "
   ]
  },
  {
   "cell_type": "code",
   "execution_count": 14,
   "metadata": {
    "collapsed": true
   },
   "outputs": [],
   "source": [
    "def loadMovieNames():\n",
    "    movieNames = {}\n",
    "    with open(\"/Users/a5sharma/Documents/ISB/BDM/HWAssignment/Assignment/data/u.item\") as f:\n",
    "        for line in f:\n",
    "            fields = line.split('|')\n",
    "            movieNames[int(fields[0])] = fields[1].decode('ascii', 'ignore')\n",
    "    return movieNames\n",
    "\n",
    "nameDict = loadMovieNames()"
   ]
  },
  {
   "cell_type": "markdown",
   "metadata": {},
   "source": [
    "Define threshold value of similary score and no of occurence."
   ]
  },
  {
   "cell_type": "code",
   "execution_count": 15,
   "metadata": {
    "collapsed": true
   },
   "outputs": [],
   "source": [
    "scoreThreshold = 0.10\n",
    "coOccurenceThreshold = 2"
   ]
  },
  {
   "cell_type": "markdown",
   "metadata": {},
   "source": [
    "movieId : movieId is a Input argument. User can enter movieId in spark console.\n",
    "\n",
    "Fetch all similar movies for the user's entered movieId and also, these similar movie's similarity score should greater than scoreThershold value. And Stored filtered result in filteredResults RDD."
   ]
  },
  {
   "cell_type": "code",
   "execution_count": 16,
   "metadata": {},
   "outputs": [
    {
     "name": "stdout",
     "output_type": "stream",
     "text": [
      "Enter Movie Id: 255\n"
     ]
    }
   ],
   "source": [
    "# Extract similarities for the movie we care about that are \"good\".\n",
    "#movieID = int(sys.argv[1])\n",
    "movieID = int(input(\"Enter Movie Id: \"))\n",
    "\n",
    "# Filter for movies with this sim that are \"good\" as defined by\n",
    "# our quality thresholds above\n",
    "filteredResults = moviePairSimilarities.filter(lambda((pair,sim)): \\\n",
    "    (pair[0] == movieID or pair[1] == movieID) \\\n",
    "    and sim[0] > scoreThreshold and sim[1] > coOccurenceThreshold)"
   ]
  },
  {
   "cell_type": "markdown",
   "metadata": {},
   "source": [
    "Fetch only 10 filtered results."
   ]
  },
  {
   "cell_type": "code",
   "execution_count": 17,
   "metadata": {
    "collapsed": true
   },
   "outputs": [],
   "source": [
    "# Sort by quality score.\n",
    "results = filteredResults.map(lambda((pair,sim)): (sim, pair)).sortByKey(ascending = False).take(10)"
   ]
  },
  {
   "cell_type": "markdown",
   "metadata": {},
   "source": [
    "Display result of our recommendation system for user's entered movieid."
   ]
  },
  {
   "cell_type": "code",
   "execution_count": 21,
   "metadata": {},
   "outputs": [
    {
     "name": "stdout",
     "output_type": "stream",
     "text": [
      "Top 10 similar movies for My Best Friend's Wedding (1997)\n",
      "Name: Kiss of Death (1995)\tscore: 1.0\tstrength: 4\n",
      "Name: Cement Garden, The (1993)\tscore: 1.0\tstrength: 3\n",
      "Name: Walking and Talking (1996)\tscore: 1.0\tstrength: 4\n",
      "Name: Mute Witness (1994)\tscore: 1.0\tstrength: 3\n",
      "Name: Poetic Justice (1993)\tscore: 0.999630382541\tstrength: 3\n",
      "Name: Braindead (1992)\tscore: 0.999630382541\tstrength: 3\n",
      "Name: Losing Isaiah (1995)\tscore: 0.999512076087\tstrength: 4\n",
      "Name: Once Were Warriors (1994)\tscore: 0.997241374055\tstrength: 3\n",
      "Name: Smile Like Yours, A (1997)\tscore: 0.996545758245\tstrength: 5\n",
      "Name: Flower of My Secret, The (Flor de mi secreto, La) (1995)\tscore: 0.996272507219\tstrength: 3\n"
     ]
    }
   ],
   "source": [
    "print \"Top 10 similar movies for \" + nameDict[movieID]\n",
    "for result in results:\n",
    "    (sim, pair) = result\n",
    "    # Display the similarity result that isn't the movie we're looking at\n",
    "    similarMovieID = pair[0]\n",
    "    if (similarMovieID == movieID):\n",
    "        similarMovieID = pair[1]\n",
    "    print \"Name: \" + nameDict[similarMovieID] + \"\\tscore: \" + str(sim[0]) + \"\\tstrength: \" + str(sim[1])\n"
   ]
  },
  {
   "cell_type": "code",
   "execution_count": 19,
   "metadata": {},
   "outputs": [
    {
     "data": {
      "text/plain": [
       "u\"My Best Friend's Wedding (1997)\""
      ]
     },
     "execution_count": 19,
     "metadata": {},
     "output_type": "execute_result"
    }
   ],
   "source": [
    "nameDict[255]"
   ]
  },
  {
   "cell_type": "code",
   "execution_count": null,
   "metadata": {
    "collapsed": true
   },
   "outputs": [],
   "source": []
  }
 ],
 "metadata": {
  "kernelspec": {
   "display_name": "Python 2",
   "language": "python",
   "name": "python2"
  },
  "language_info": {
   "codemirror_mode": {
    "name": "ipython",
    "version": 2
   },
   "file_extension": ".py",
   "mimetype": "text/x-python",
   "name": "python",
   "nbconvert_exporter": "python",
   "pygments_lexer": "ipython2",
   "version": "2.7.14"
  }
 },
 "nbformat": 4,
 "nbformat_minor": 2
}
