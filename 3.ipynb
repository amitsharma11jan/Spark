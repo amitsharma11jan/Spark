{
 "cells": [
  {
   "cell_type": "markdown",
   "metadata": {},
   "source": [
    "#### Question 3:\n",
    "\n",
    "\n",
    "For this question, you would need to use the concepts learnt in Graph analytics session, and use datasets trip.csv and station.csv. The two files contain bike sharing data provided by SF Bay Area Portal. Trip.csv file contains following fields:<br><br>\n",
    "<ul>\n",
    "<li>\ttripId</li>\n",
    "<li>\tDuration</li>\n",
    "<li>\tStartDate</li>\n",
    "<li>\tEndDate</li>\n",
    "<li>\tStartStation</li>\n",
    "<li>\tStartTerminal</li>\n",
    "<li>\tEndDate</li>\n",
    "<li>\tEndStation</li>\n",
    "<li>\tEndTerminal</li>\n",
    "<li>\tBikeID</li>\n",
    "<li>\tSubscriberType</li>\n",
    "<li>\tZipCode</li>\n",
    "</ul>\n",
    "Station.csv file contains following fields:\n",
    "<ul>\n",
    "<li>\tstationId</li>\n",
    "<li>\tName</li>\n",
    "<li>\tLat (Latitude)</li>\n",
    "<li>\tLong (Longitude)</li>\n",
    "<li>\tDockcount</li>\n",
    "<li>\tLandmark</li>\n",
    "<li>\tInstallation</li>\n",
    "</ul>\n",
    "\n",
    "Using the two files, please perform the following:\n",
    "<ol>\n",
    "<li>\tImport the data and create a graph using GraphFrames (Hint: Your graph will have nodes and edges. Nodes here would be individual stations so id field would be name field in station.csv file. Edges would have src and dst so it would Start Station and End Station fields in trip.csv file respectively. You can make use of other fields as properties of nodes and edges). </li>\n",
    "<li>\tFind out number of incoming connections and outgoing connections for each node and print the top 10 nodes.</li>\n",
    "<li>\tFind out which are the most common direct routes that people take and print top 10.</li>\n",
    "<li>\tFrom the analysis in b, see which are the stations where people most frequently start their trips but do not come back. (Hint: You might have to think of incoming connections as a ratio of outgoing connections). Print top 10 such stations.</li>\n",
    "<li>\tFind all such patterns where any station a is connected to station b, b is connected to c, but c is not directly connected to a.</li>\n",
    "<li>\t Run a PageRank algorithm to figure out which is the most important station in the entire graph.</li>\n",
    "</ol>\n",
    "\n",
    "<b>Amit Kumar Sharma<b><br>\n",
    "PGID: 71721079"
   ]
  },
  {
   "cell_type": "code",
   "execution_count": 1,
   "metadata": {},
   "outputs": [
    {
     "data": {
      "text/html": [
       "\n",
       "        <div>\n",
       "            <p><b>SparkContext</b></p>\n",
       "\n",
       "            <p><a href=\"http://localhost:4042\">Spark UI</a></p>\n",
       "\n",
       "            <dl>\n",
       "              <dt>Version</dt>\n",
       "                <dd><code>v2.2.1</code></dd>\n",
       "              <dt>Master</dt>\n",
       "                <dd><code>local[*]</code></dd>\n",
       "              <dt>AppName</dt>\n",
       "                <dd><code>PySparkShell</code></dd>\n",
       "            </dl>\n",
       "        </div>\n",
       "        "
      ],
      "text/plain": [
       "<SparkContext master=local[*] appName=PySparkShell>"
      ]
     },
     "execution_count": 1,
     "metadata": {},
     "output_type": "execute_result"
    }
   ],
   "source": [
    "sc"
   ]
  },
  {
   "cell_type": "code",
   "execution_count": 2,
   "metadata": {
    "collapsed": true
   },
   "outputs": [],
   "source": [
    "import os\n",
    "from pyspark.sql import SQLContext,Row\n",
    "from pyspark.sql.functions import *\n",
    "from graphframes import *\n",
    "import pandas as pd"
   ]
  },
  {
   "cell_type": "code",
   "execution_count": 3,
   "metadata": {
    "collapsed": true
   },
   "outputs": [],
   "source": [
    "os.chdir('/Users/a5sharma/Documents/ISB/BDM/HWAssignment/Assignment/data')"
   ]
  },
  {
   "cell_type": "markdown",
   "metadata": {},
   "source": [
    "### Import the data and create a graph using GraphFrames"
   ]
  },
  {
   "cell_type": "code",
   "execution_count": 4,
   "metadata": {
    "collapsed": true
   },
   "outputs": [],
   "source": [
    "os.chdir('/Users/a5sharma/Documents/ISB/BDM/HWAssignment/Assignment/data')\n",
    "trip = sqlContext.read.format(\"com.databricks.spark.csv\").options(header='true', inferschema='true').load('file:///Users/a5sharma/Documents/ISB/BDM/HWAssignment/Assignment/data/trip.csv')\n",
    "station = sqlContext.read.format(\"com.databricks.spark.csv\").options(header='true', inferschema='true').load('file:///Users/a5sharma/Documents/ISB/BDM/HWAssignment/Assignment/data/station.csv')"
   ]
  },
  {
   "cell_type": "code",
   "execution_count": 5,
   "metadata": {},
   "outputs": [
    {
     "name": "stdout",
     "output_type": "stream",
     "text": [
      "root\n",
      " |-- Trip ID: integer (nullable = true)\n",
      " |-- Duration: integer (nullable = true)\n",
      " |-- Start Date: string (nullable = true)\n",
      " |-- Start Station: string (nullable = true)\n",
      " |-- Start Terminal: integer (nullable = true)\n",
      " |-- End Date: string (nullable = true)\n",
      " |-- End Station: string (nullable = true)\n",
      " |-- End Terminal: integer (nullable = true)\n",
      " |-- Bike #: integer (nullable = true)\n",
      " |-- Subscriber Type: string (nullable = true)\n",
      " |-- Zip Code: string (nullable = true)\n",
      "\n"
     ]
    }
   ],
   "source": [
    "trip.printSchema()"
   ]
  },
  {
   "cell_type": "code",
   "execution_count": 6,
   "metadata": {},
   "outputs": [
    {
     "name": "stdout",
     "output_type": "stream",
     "text": [
      "root\n",
      " |-- station_id: integer (nullable = true)\n",
      " |-- name: string (nullable = true)\n",
      " |-- lat: double (nullable = true)\n",
      " |-- long: double (nullable = true)\n",
      " |-- dockcount: integer (nullable = true)\n",
      " |-- landmark: string (nullable = true)\n",
      " |-- installation: string (nullable = true)\n",
      "\n"
     ]
    }
   ],
   "source": [
    "station.printSchema()"
   ]
  },
  {
   "cell_type": "code",
   "execution_count": 7,
   "metadata": {},
   "outputs": [
    {
     "data": {
      "text/plain": [
       "DataFrame[id: int, name: string, lat: double, long: double, dockcount: int, landmark: string, installation: string]"
      ]
     },
     "execution_count": 7,
     "metadata": {},
     "output_type": "execute_result"
    }
   ],
   "source": [
    "tripVertices = station.withColumnRenamed('station_id','id').distinct()\n",
    "tripVertices.cache()"
   ]
  },
  {
   "cell_type": "code",
   "execution_count": 8,
   "metadata": {
    "collapsed": true
   },
   "outputs": [],
   "source": [
    "edges = trip.withColumnRenamed('Trip ID','tripId').withColumnRenamed('Start Date','startDate').withColumnRenamed('Start Station','startStation').withColumnRenamed('Start Terminal','startTerminal').withColumnRenamed('End Station','endStation').withColumnRenamed('End Terminal','endTerminal').withColumnRenamed('Start Date','startDate').withColumnRenamed('End Date','endDate')\n",
    "edges = edges.withColumnRenamed('Bike #','bikeId').withColumnRenamed('Subscriber Type','subscriberType').withColumnRenamed('Zip Code','zipCode').withColumnRenamed('Duration','duration')"
   ]
  },
  {
   "cell_type": "code",
   "execution_count": 9,
   "metadata": {
    "collapsed": true
   },
   "outputs": [],
   "source": [
    "edges.registerTempTable('edges')"
   ]
  },
  {
   "cell_type": "code",
   "execution_count": 10,
   "metadata": {
    "collapsed": true
   },
   "outputs": [],
   "source": [
    "tripEdges = sqlContext.sql('select tripId, endDate-startDate as delay, startTerminal as src, endTerminal as dst, startStation as src_station, endStation as dst_station from edges')"
   ]
  },
  {
   "cell_type": "code",
   "execution_count": 11,
   "metadata": {},
   "outputs": [
    {
     "data": {
      "text/plain": [
       "DataFrame[tripId: int, delay: double, src: int, dst: int, src_station: string, dst_station: string]"
      ]
     },
     "execution_count": 11,
     "metadata": {},
     "output_type": "execute_result"
    }
   ],
   "source": [
    "tripEdges.cache()"
   ]
  },
  {
   "cell_type": "code",
   "execution_count": 12,
   "metadata": {},
   "outputs": [
    {
     "data": {
      "text/plain": [
       "354152"
      ]
     },
     "execution_count": 12,
     "metadata": {},
     "output_type": "execute_result"
    }
   ],
   "source": [
    "tripEdges.count()"
   ]
  },
  {
   "cell_type": "code",
   "execution_count": 13,
   "metadata": {},
   "outputs": [
    {
     "data": {
      "text/plain": [
       "70"
      ]
     },
     "execution_count": 13,
     "metadata": {},
     "output_type": "execute_result"
    }
   ],
   "source": [
    "tripVertices.count()"
   ]
  },
  {
   "cell_type": "code",
   "execution_count": 14,
   "metadata": {
    "collapsed": true
   },
   "outputs": [],
   "source": [
    "graph = GraphFrame(tripVertices, tripEdges)"
   ]
  },
  {
   "cell_type": "markdown",
   "metadata": {},
   "source": [
    "### Find out number of incoming connections and outgoing connections for each node and print top 10 nodes? "
   ]
  },
  {
   "cell_type": "code",
   "execution_count": 15,
   "metadata": {
    "collapsed": true
   },
   "outputs": [],
   "source": [
    "inDegree = graph.inDegrees\n",
    "outDegree = graph.outDegrees"
   ]
  },
  {
   "cell_type": "code",
   "execution_count": 16,
   "metadata": {},
   "outputs": [
    {
     "data": {
      "text/plain": [
       "[Row(id=70, inDegree=34810),\n",
       " Row(id=69, inDegree=22523),\n",
       " Row(id=50, inDegree=17810),\n",
       " Row(id=61, inDegree=15463),\n",
       " Row(id=65, inDegree=15422),\n",
       " Row(id=60, inDegree=15065),\n",
       " Row(id=77, inDegree=13916),\n",
       " Row(id=74, inDegree=13617),\n",
       " Row(id=55, inDegree=12966),\n",
       " Row(id=39, inDegree=10239)]"
      ]
     },
     "execution_count": 16,
     "metadata": {},
     "output_type": "execute_result"
    }
   ],
   "source": [
    "inDegree.sort('inDegree', ascending=False).take(10)"
   ]
  },
  {
   "cell_type": "code",
   "execution_count": 17,
   "metadata": {},
   "outputs": [
    {
     "data": {
      "text/plain": [
       "[Row(id=70, outDegree=26304),\n",
       " Row(id=69, outDegree=21758),\n",
       " Row(id=50, outDegree=17255),\n",
       " Row(id=55, outDegree=14436),\n",
       " Row(id=60, outDegree=14158),\n",
       " Row(id=61, outDegree=14026),\n",
       " Row(id=65, outDegree=13752),\n",
       " Row(id=74, outDegree=13687),\n",
       " Row(id=67, outDegree=11885),\n",
       " Row(id=77, outDegree=11431)]"
      ]
     },
     "execution_count": 17,
     "metadata": {},
     "output_type": "execute_result"
    }
   ],
   "source": [
    "outDegree.sort('outDegree', ascending=False).take(10)"
   ]
  },
  {
   "cell_type": "markdown",
   "metadata": {},
   "source": [
    "### Find out which are the most common direct routes that people take and print top 10?"
   ]
  },
  {
   "cell_type": "code",
   "execution_count": 18,
   "metadata": {},
   "outputs": [
    {
     "name": "stdout",
     "output_type": "stream",
     "text": [
      "+---+--------------------+---+--------------------+-----+\n",
      "|src|         src_station|dst|         dst_station|count|\n",
      "+---+--------------------+---+--------------------+-----+\n",
      "| 69|San Francisco Cal...| 65|     Townsend at 7th| 3748|\n",
      "| 50|Harry Bridges Pla...| 60|Embarcadero at Sa...| 3145|\n",
      "| 61|     2nd at Townsend| 50|Harry Bridges Pla...| 2973|\n",
      "| 65|     Townsend at 7th| 69|San Francisco Cal...| 2734|\n",
      "| 50|Harry Bridges Pla...| 61|     2nd at Townsend| 2640|\n",
      "| 51|Embarcadero at Fo...| 70|San Francisco Cal...| 2439|\n",
      "| 74|   Steuart at Market| 61|     2nd at Townsend| 2356|\n",
      "| 60|Embarcadero at Sa...| 74|   Steuart at Market| 2330|\n",
      "| 65|     Townsend at 7th| 70|San Francisco Cal...| 2192|\n",
      "| 55|Temporary Transba...| 70|San Francisco Cal...| 2184|\n",
      "+---+--------------------+---+--------------------+-----+\n",
      "\n"
     ]
    }
   ],
   "source": [
    "topTrips = graph.edges.groupBy(\"src\", \"src_station\",\"dst\",\"dst_station\").count().sort('count', ascending=False).limit(10)\n",
    "\n",
    "topTrips.show()"
   ]
  },
  {
   "cell_type": "markdown",
   "metadata": {
    "collapsed": true
   },
   "source": [
    "### From the analysis in b, see which are the stations where people most frequently start their trips but do not come back."
   ]
  },
  {
   "cell_type": "markdown",
   "metadata": {},
   "source": [
    "Register inDegree and outDegree as temp table. <br>\n",
    "Compute ratio of ind.inDegree and outd.outDegree.<br>\n",
    "If the ratio is high for a station, it means that incoming is more than outgoing for the station and people ended their trip.\n",
    "\n",
    "If the ratio is low for a station, it means that outgoing is more than incoming for the station and people do not come back to the station."
   ]
  },
  {
   "cell_type": "code",
   "execution_count": 19,
   "metadata": {
    "collapsed": true
   },
   "outputs": [],
   "source": [
    "inDegree.registerTempTable(\"inDegree\")\n",
    "outDegree.registerTempTable(\"outDegree\")"
   ]
  },
  {
   "cell_type": "code",
   "execution_count": 20,
   "metadata": {},
   "outputs": [
    {
     "name": "stdout",
     "output_type": "stream",
     "text": [
      "+---+------------------+\n",
      "| id|       degreeRatio|\n",
      "+---+------------------+\n",
      "| 73|0.5180520570948782|\n",
      "| 62|0.5909488686085761|\n",
      "| 71|0.6434241245136186|\n",
      "| 83|0.6839622641509434|\n",
      "| 30|0.7413087934560327|\n",
      "| 56|  0.75726761574351|\n",
      "| 59|0.7822270981897971|\n",
      "| 84|0.7857142857142857|\n",
      "| 58|0.7928849902534113|\n",
      "| 34|0.8064516129032258|\n",
      "| 10|0.8064903846153846|\n",
      "| 66|0.8303267528931245|\n",
      "| 24|0.8305084745762712|\n",
      "| 67|0.8599074463609592|\n",
      "| 13|0.8688915375446961|\n",
      "| 64|0.8715809483577991|\n",
      "|  5|0.8718861209964412|\n",
      "| 11|0.8735213830755232|\n",
      "| 33|0.8802395209580839|\n",
      "| 22|0.8927374301675978|\n",
      "+---+------------------+\n",
      "\n"
     ]
    }
   ],
   "source": [
    "sqlContext.sql(\"select ind.id, ind.inDegree/outd.outDegree degreeRatio from inDegree ind, outDegree outd where ind.id == outd.id order by degreeRatio asc limit 20\").show()"
   ]
  },
  {
   "cell_type": "markdown",
   "metadata": {},
   "source": [
    "### Find all such patterns where any station a is connected to station b, b is connected to c, but c is not directly connected to a."
   ]
  },
  {
   "cell_type": "markdown",
   "metadata": {},
   "source": [
    "As there are 354152 records in trip.csv file and it's taking lot's of time to find out motif, that's why I am using sample function to find out motif only for 5298 records.  "
   ]
  },
  {
   "cell_type": "code",
   "execution_count": 22,
   "metadata": {},
   "outputs": [],
   "source": [
    "edges1 = tripEdges.sample(False,fraction=0.015)\n",
    "graph = GraphFrame(tripVertices, edges1)\n",
    "edges1.write.parquet(\"edges1.parquet\")"
   ]
  },
  {
   "cell_type": "code",
   "execution_count": 24,
   "metadata": {
    "collapsed": true
   },
   "outputs": [],
   "source": [
    "parquetFile = spark.read.parquet(\"edges1.parquet\")\n",
    "graph = GraphFrame(tripVertices, parquetFile)"
   ]
  },
  {
   "cell_type": "code",
   "execution_count": 25,
   "metadata": {},
   "outputs": [
    {
     "data": {
      "text/plain": [
       "[Row(a=Row(id=73, name=u'Grant Avenue at Columbus Avenue', lat=37.798522, long=-122.407245, dockcount=15, landmark=u'San Francisco', installation=u'8/21/2013'), e=Row(tripId=433739, delay=None, src=73, dst=55, src_station=u'Grant Avenue at Columbus Avenue', dst_station=u'Temporary Transbay Terminal (Howard at Beale)'), b=Row(id=55, name=u'Temporary Transbay Terminal (Howard at Beale)', lat=37.789756, long=-122.394643, dockcount=23, landmark=u'San Francisco', installation=u'8/20/2013'), e2=Row(tripId=544221, delay=None, src=55, dst=59, src_station=u'Temporary Transbay Terminal (Howard at Beale)', dst_station=u'Golden Gate at Polk'), c=Row(id=59, name=u'Golden Gate at Polk', lat=37.781332, long=-122.418603, dockcount=23, landmark=u'San Francisco', installation=u'8/21/2013')),\n",
       " Row(a=Row(id=73, name=u'Grant Avenue at Columbus Avenue', lat=37.798522, long=-122.407245, dockcount=15, landmark=u'San Francisco', installation=u'8/21/2013'), e=Row(tripId=433739, delay=None, src=73, dst=55, src_station=u'Grant Avenue at Columbus Avenue', dst_station=u'Temporary Transbay Terminal (Howard at Beale)'), b=Row(id=55, name=u'Temporary Transbay Terminal (Howard at Beale)', lat=37.789756, long=-122.394643, dockcount=23, landmark=u'San Francisco', installation=u'8/20/2013'), e2=Row(tripId=670576, delay=None, src=55, dst=57, src_station=u'Temporary Transbay Terminal (Howard at Beale)', dst_station=u'5th at Howard'), c=Row(id=57, name=u'5th at Howard', lat=37.781752, long=-122.405127, dockcount=15, landmark=u'San Francisco', installation=u'8/21/2013')),\n",
       " Row(a=Row(id=73, name=u'Grant Avenue at Columbus Avenue', lat=37.798522, long=-122.407245, dockcount=15, landmark=u'San Francisco', installation=u'8/21/2013'), e=Row(tripId=433739, delay=None, src=73, dst=55, src_station=u'Grant Avenue at Columbus Avenue', dst_station=u'Temporary Transbay Terminal (Howard at Beale)'), b=Row(id=55, name=u'Temporary Transbay Terminal (Howard at Beale)', lat=37.789756, long=-122.394643, dockcount=23, landmark=u'San Francisco', installation=u'8/20/2013'), e2=Row(tripId=875653, delay=None, src=55, dst=69, src_station=u'Temporary Transbay Terminal (Howard at Beale)', dst_station=u'San Francisco Caltrain 2 (330 Townsend)'), c=Row(id=69, name=u'San Francisco Caltrain 2 (330 Townsend)', lat=37.7766, long=-122.39547, dockcount=23, landmark=u'San Francisco', installation=u'8/23/2013')),\n",
       " Row(a=Row(id=70, name=u'San Francisco Caltrain (Townsend at 4th)', lat=37.776617, long=-122.39526, dockcount=19, landmark=u'San Francisco', installation=u'8/23/2013'), e=Row(tripId=434113, delay=None, src=70, dst=55, src_station=u'San Francisco Caltrain (Townsend at 4th)', dst_station=u'Temporary Transbay Terminal (Howard at Beale)'), b=Row(id=55, name=u'Temporary Transbay Terminal (Howard at Beale)', lat=37.789756, long=-122.394643, dockcount=23, landmark=u'San Francisco', installation=u'8/20/2013'), e2=Row(tripId=636897, delay=None, src=55, dst=69, src_station=u'Temporary Transbay Terminal (Howard at Beale)', dst_station=u'San Francisco Caltrain 2 (330 Townsend)'), c=Row(id=69, name=u'San Francisco Caltrain 2 (330 Townsend)', lat=37.7766, long=-122.39547, dockcount=23, landmark=u'San Francisco', installation=u'8/23/2013')),\n",
       " Row(a=Row(id=57, name=u'5th at Howard', lat=37.781752, long=-122.405127, dockcount=15, landmark=u'San Francisco', installation=u'8/21/2013'), e=Row(tripId=434225, delay=None, src=57, dst=70, src_station=u'5th at Howard', dst_station=u'San Francisco Caltrain (Townsend at 4th)'), b=Row(id=70, name=u'San Francisco Caltrain (Townsend at 4th)', lat=37.776617, long=-122.39526, dockcount=19, landmark=u'San Francisco', installation=u'8/23/2013'), e2=Row(tripId=624695, delay=None, src=70, dst=51, src_station=u'San Francisco Caltrain (Townsend at 4th)', dst_station=u'Embarcadero at Folsom'), c=Row(id=51, name=u'Embarcadero at Folsom', lat=37.791464, long=-122.391034, dockcount=19, landmark=u'San Francisco', installation=u'8/20/2013')),\n",
       " Row(a=Row(id=64, name=u'2nd at South Park', lat=37.782259, long=-122.392738, dockcount=15, landmark=u'San Francisco', installation=u'8/22/2013'), e=Row(tripId=435064, delay=None, src=64, dst=41, src_station=u'2nd at South Park', dst_station=u'Clay at Battery'), b=Row(id=41, name=u'Clay at Battery', lat=37.795001, long=-122.39997, dockcount=15, landmark=u'San Francisco', installation=u'8/19/2013'), e2=Row(tripId=742976, delay=None, src=41, dst=61, src_station=u'Clay at Battery', dst_station=u'2nd at Townsend'), c=Row(id=61, name=u'2nd at Townsend', lat=37.780526, long=-122.390288, dockcount=27, landmark=u'San Francisco', installation=u'8/22/2013')),\n",
       " Row(a=Row(id=70, name=u'San Francisco Caltrain (Townsend at 4th)', lat=37.776617, long=-122.39526, dockcount=19, landmark=u'San Francisco', installation=u'8/23/2013'), e=Row(tripId=435508, delay=None, src=70, dst=42, src_station=u'San Francisco Caltrain (Townsend at 4th)', dst_station=u'Davis at Jackson'), b=Row(id=42, name=u'Davis at Jackson', lat=37.79728, long=-122.398436, dockcount=15, landmark=u'San Francisco', installation=u'8/19/2013'), e2=Row(tripId=913129, delay=None, src=42, dst=69, src_station=u'Davis at Jackson', dst_station=u'San Francisco Caltrain 2 (330 Townsend)'), c=Row(id=69, name=u'San Francisco Caltrain 2 (330 Townsend)', lat=37.7766, long=-122.39547, dockcount=23, landmark=u'San Francisco', installation=u'8/23/2013')),\n",
       " Row(a=Row(id=72, name=u'Civic Center BART (7th at Market)', lat=37.781039, long=-122.411748, dockcount=23, landmark=u'San Francisco', installation=u'8/23/2013'), e=Row(tripId=436094, delay=None, src=72, dst=77, src_station=u'Civic Center BART (7th at Market)', dst_station=u'Market at Sansome'), b=Row(id=77, name=u'Market at Sansome', lat=37.789625, long=-122.400811, dockcount=27, landmark=u'San Francisco', installation=u'8/25/2013'), e2=Row(tripId=476194, delay=None, src=77, dst=49, src_station=u'Market at Sansome', dst_station=u'Spear at Folsom'), c=Row(id=49, name=u'Spear at Folsom', lat=37.790302, long=-122.390637, dockcount=19, landmark=u'San Francisco', installation=u'8/20/2013')),\n",
       " Row(a=Row(id=51, name=u'Embarcadero at Folsom', lat=37.791464, long=-122.391034, dockcount=19, landmark=u'San Francisco', installation=u'8/20/2013'), e=Row(tripId=440164, delay=None, src=51, dst=70, src_station=u'Embarcadero at Folsom', dst_station=u'San Francisco Caltrain (Townsend at 4th)'), b=Row(id=70, name=u'San Francisco Caltrain (Townsend at 4th)', lat=37.776617, long=-122.39526, dockcount=19, landmark=u'San Francisco', installation=u'8/23/2013'), e2=Row(tripId=578397, delay=None, src=70, dst=42, src_station=u'San Francisco Caltrain (Townsend at 4th)', dst_station=u'Davis at Jackson'), c=Row(id=42, name=u'Davis at Jackson', lat=37.79728, long=-122.398436, dockcount=15, landmark=u'San Francisco', installation=u'8/19/2013')),\n",
       " Row(a=Row(id=70, name=u'San Francisco Caltrain (Townsend at 4th)', lat=37.776617, long=-122.39526, dockcount=19, landmark=u'San Francisco', installation=u'8/23/2013'), e=Row(tripId=442422, delay=None, src=70, dst=63, src_station=u'San Francisco Caltrain (Townsend at 4th)', dst_station=u'Howard at 2nd'), b=Row(id=63, name=u'Howard at 2nd', lat=37.786978, long=-122.398108, dockcount=19, landmark=u'San Francisco', installation=u'8/22/2013'), e2=Row(tripId=654444, delay=None, src=63, dst=69, src_station=u'Howard at 2nd', dst_station=u'San Francisco Caltrain 2 (330 Townsend)'), c=Row(id=69, name=u'San Francisco Caltrain 2 (330 Townsend)', lat=37.7766, long=-122.39547, dockcount=23, landmark=u'San Francisco', installation=u'8/23/2013'))]"
      ]
     },
     "execution_count": 25,
     "metadata": {},
     "output_type": "execute_result"
    }
   ],
   "source": [
    "motif = graph.find(\"(a)-[e]->(b); (b)-[e2]->(c); !(c)-[]->(a)\")\n",
    "motif.take(10)"
   ]
  },
  {
   "cell_type": "markdown",
   "metadata": {},
   "source": [
    "### Run a PageRank algorithm to figure out which is the most important station in the entire graph."
   ]
  },
  {
   "cell_type": "code",
   "execution_count": 31,
   "metadata": {},
   "outputs": [
    {
     "name": "stdout",
     "output_type": "stream",
     "text": [
      "+---+-------------------+\n",
      "| id|           pagerank|\n",
      "+---+-------------------+\n",
      "|  2|  4.129655706934019|\n",
      "|  3|  0.819908658514437|\n",
      "|  4|  1.758699775396609|\n",
      "|  5| 0.5076037268076974|\n",
      "|  6| 1.1815876711444973|\n",
      "|  7| 0.7580312189324605|\n",
      "|  8| 0.7049332259364685|\n",
      "|  9| 1.1997887103034572|\n",
      "| 10| 0.5332109934725345|\n",
      "| 11| 0.7890047316577516|\n",
      "| 12| 0.5681114149192706|\n",
      "| 13| 0.7471647285281705|\n",
      "| 14| 0.6105853371191573|\n",
      "| 16| 0.5423682818176364|\n",
      "| 21|0.22674683784891417|\n",
      "| 22|  1.477997766526867|\n",
      "| 23|0.33535485366350476|\n",
      "| 24|  2.706746047308352|\n",
      "| 25| 0.6287951256832548|\n",
      "| 26| 0.9317499121064922|\n",
      "+---+-------------------+\n",
      "only showing top 20 rows\n",
      "\n"
     ]
    }
   ],
   "source": [
    "results = graph.pageRank(resetProbability=0.15, tol=0.01)\n",
    "results.vertices.select(\"id\", \"pagerank\").show()"
   ]
  },
  {
   "cell_type": "code",
   "execution_count": 32,
   "metadata": {},
   "outputs": [
    {
     "name": "stdout",
     "output_type": "stream",
     "text": [
      "+---+------------------+\n",
      "| id|          pagerank|\n",
      "+---+------------------+\n",
      "|  2| 4.129655706934019|\n",
      "| 70|3.2792907133799853|\n",
      "| 24| 2.706746047308352|\n",
      "| 28|2.4952781720688595|\n",
      "| 69|2.2849535341213585|\n",
      "|  4| 1.758699775396609|\n",
      "| 50|1.7331238832413067|\n",
      "| 27|1.6957863598278817|\n",
      "| 65|1.5730837845213785|\n",
      "| 74| 1.550020254550833|\n",
      "| 22| 1.477997766526867|\n",
      "| 61|1.4311861091004021|\n",
      "| 55|1.3903177930127997|\n",
      "| 60|1.3615175825678585|\n",
      "| 77|  1.29343173927828|\n",
      "| 67|1.2054547043332389|\n",
      "|  9|1.1997887103034572|\n",
      "|  6|1.1815876711444973|\n",
      "| 34|  1.15426465901257|\n",
      "| 76| 1.134632297256152|\n",
      "+---+------------------+\n",
      "only showing top 20 rows\n",
      "\n"
     ]
    }
   ],
   "source": [
    "results.vertices.select(\"id\", \"pagerank\").distinct().sort('pagerank', ascending=False).show()"
   ]
  },
  {
   "cell_type": "code",
   "execution_count": 33,
   "metadata": {},
   "outputs": [
    {
     "name": "stdout",
     "output_type": "stream",
     "text": [
      "+---+---+-------------------+\n",
      "|src|dst|             weight|\n",
      "+---+---+-------------------+\n",
      "| 24| 24|                1.0|\n",
      "| 33| 33|                0.5|\n",
      "| 26| 22|                0.5|\n",
      "| 21| 23|                0.5|\n",
      "| 83| 22|                0.5|\n",
      "| 26| 26|                0.5|\n",
      "| 21| 22|                0.5|\n",
      "| 33| 27|                0.5|\n",
      "| 23| 23| 0.3333333333333333|\n",
      "| 23| 24| 0.3333333333333333|\n",
      "|  5|  2|                0.2|\n",
      "| 16|  2|                0.2|\n",
      "| 16|  8|                0.2|\n",
      "| 16|  7|                0.2|\n",
      "| 38| 34|                0.2|\n",
      "|  5| 11|                0.2|\n",
      "| 38| 38|                0.2|\n",
      "|  8|  4|0.14285714285714285|\n",
      "|  8| 16|0.14285714285714285|\n",
      "|  8|  6|0.14285714285714285|\n",
      "+---+---+-------------------+\n",
      "only showing top 20 rows\n",
      "\n"
     ]
    }
   ],
   "source": [
    "results.edges.select(\"src\", \"dst\", \"weight\").distinct().sort('weight', ascending=False).show()"
   ]
  },
  {
   "cell_type": "code",
   "execution_count": null,
   "metadata": {
    "collapsed": true
   },
   "outputs": [],
   "source": []
  }
 ],
 "metadata": {
  "kernelspec": {
   "display_name": "Python 2",
   "language": "python",
   "name": "python2"
  },
  "language_info": {
   "codemirror_mode": {
    "name": "ipython",
    "version": 2
   },
   "file_extension": ".py",
   "mimetype": "text/x-python",
   "name": "python",
   "nbconvert_exporter": "python",
   "pygments_lexer": "ipython2",
   "version": "2.7.14"
  }
 },
 "nbformat": 4,
 "nbformat_minor": 1
}
