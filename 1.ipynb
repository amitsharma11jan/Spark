{
 "cells": [
  {
   "cell_type": "markdown",
   "metadata": {},
   "source": [
    "#### Question 1:\n",
    "\n",
    "Consider the two data files (users.csv, transactions.csv). Users file has the following fields:\n",
    "<ol><li>\tUserID</li>\n",
    "<li>\tEmailID</li>\n",
    "<li>\tNativeLanguage</li>\n",
    "<li>\tLocation</li></ol>\n",
    "\n",
    "Transactions file has the following fields:\n",
    "<ol><li>\tTransaction_ID</li>\n",
    "<li>\tProduct_ID</li>\n",
    "<li>\tUserID</li>\n",
    "<li>\tPrice</li>\n",
    "<li>\tProduct_Description</li></ol>\n",
    "\n",
    "By making use of Spark Core (i.e. without using Spark SQL) find out:\n",
    "<ol><li>\tCount of unique locations where each product is sold. </li>\n",
    "<li>\tFind out products bought by each user.</li>\n",
    "<li>\tTotal spending done by each user on each product.</li></ol>\n",
    "\n",
    "\n",
    "<b>Amit Kumar Sharma<b><br>\n",
    "PGID: 71721079"
   ]
  },
  {
   "cell_type": "code",
   "execution_count": 1,
   "metadata": {
    "collapsed": true
   },
   "outputs": [],
   "source": [
    "import os"
   ]
  },
  {
   "cell_type": "code",
   "execution_count": 3,
   "metadata": {
    "collapsed": true
   },
   "outputs": [],
   "source": [
    "os.getcwd()\n",
    "os.chdir(\"/Users/a5sharma/Documents/ISB/BDM/HWAssignment/Assignment/data\")"
   ]
  },
  {
   "cell_type": "code",
   "execution_count": 4,
   "metadata": {},
   "outputs": [],
   "source": [
    "user = sc.textFile('file:///Users/a5sharma/Documents/ISB/BDM/HWAssignment/Assignment/data/users.csv')\n",
    "transaction = sc.textFile('file:///Users/a5sharma/Documents/ISB/BDM/HWAssignment/Assignment/data/transactions.csv')"
   ]
  },
  {
   "cell_type": "code",
   "execution_count": 5,
   "metadata": {},
   "outputs": [
    {
     "data": {
      "text/plain": [
       "30"
      ]
     },
     "execution_count": 5,
     "metadata": {},
     "output_type": "execute_result"
    }
   ],
   "source": [
    "user.count()"
   ]
  },
  {
   "cell_type": "code",
   "execution_count": 6,
   "metadata": {},
   "outputs": [
    {
     "data": {
      "text/plain": [
       "15"
      ]
     },
     "execution_count": 6,
     "metadata": {},
     "output_type": "execute_result"
    }
   ],
   "source": [
    "transaction.count()"
   ]
  },
  {
   "cell_type": "code",
   "execution_count": 7,
   "metadata": {},
   "outputs": [
    {
     "data": {
      "text/plain": [
       "[u'1,1004,19,129,whatchamacallit',\n",
       " u'2,1001,10,99,thingamajig',\n",
       " u'3,1004,17,129,whatchamacallit',\n",
       " u'4,1001,9,99,thingamajig',\n",
       " u'5,1003,3,89,gadget',\n",
       " u'6,1002,19,149,gizmo',\n",
       " u'7,1002,30,149,gizmo',\n",
       " u'8,1002,26,149,gizmo',\n",
       " u'9,1001,22,99,thingamajig',\n",
       " u'10,1003,6,89,gadget',\n",
       " u'11,1004,1,129,whatchamacallit',\n",
       " u'12,1004,2,129,whatchamacallit',\n",
       " u'13,1005,5,199,doohickey',\n",
       " u'14,1004,7,129,whatchamacallit',\n",
       " u'15,1002,16,149,gizmo']"
      ]
     },
     "execution_count": 7,
     "metadata": {},
     "output_type": "execute_result"
    }
   ],
   "source": [
    "transaction.collect()"
   ]
  },
  {
   "cell_type": "code",
   "execution_count": 8,
   "metadata": {},
   "outputs": [
    {
     "data": {
      "text/plain": [
       "[u'1,user1@company.com,ES,MX',\n",
       " u'2,user4@domain.com,EN,US',\n",
       " u'3,user5@company.com,FR,FR',\n",
       " u'4,user9@site.org,HI,IN',\n",
       " u'5,user12@service.io,EN,CA',\n",
       " u'6,user17@website.net,FR,FR',\n",
       " u'7,user21@company.com,FR,FR',\n",
       " u'8,user25@company.com,FR,FR',\n",
       " u'9,user27@school.edu,ES,MX',\n",
       " u'10,user31@website.net,EN,CA',\n",
       " u'11,user36@website.net,FR,FR',\n",
       " u'12,user39@domain.com,FR,FR',\n",
       " u'13,user41@company.com,ES,MX',\n",
       " u'14,user45@domain.com,HI,IN',\n",
       " u'15,user48@site.org,ES,MX',\n",
       " u'16,user53@school.edu,EN,US',\n",
       " u'17,user57@school.edu,ES,MX',\n",
       " u'18,user59@website.net,HI,IN',\n",
       " u'19,user64@school.edu,EN,US',\n",
       " u'20,user67@domain.com,HI,IN']"
      ]
     },
     "execution_count": 8,
     "metadata": {},
     "output_type": "execute_result"
    }
   ],
   "source": [
    "user.take(20)"
   ]
  },
  {
   "cell_type": "markdown",
   "metadata": {},
   "source": [
    "Join user and transaction data by userId and stored joined RDD as temp."
   ]
  },
  {
   "cell_type": "code",
   "execution_count": 9,
   "metadata": {
    "collapsed": true
   },
   "outputs": [],
   "source": [
    "u = user.map(lambda x : x.split(\",\")).map(lambda x: (x[0],x))\n",
    "t = transaction.map(lambda x : x.split(\",\")).map(lambda x: (x[2],x))\n",
    "temp = u.join(t).map(lambda x : x[1][0]+x[1][1]).map(lambda x : \",\".join(x))"
   ]
  },
  {
   "cell_type": "code",
   "execution_count": 10,
   "metadata": {},
   "outputs": [
    {
     "data": {
      "text/plain": [
       "[u'19,user64@school.edu,EN,US,1,1004,19,129,whatchamacallit',\n",
       " u'19,user64@school.edu,EN,US,6,1002,19,149,gizmo',\n",
       " u'1,user1@company.com,ES,MX,11,1004,1,129,whatchamacallit',\n",
       " u'5,user12@service.io,EN,CA,13,1005,5,199,doohickey',\n",
       " u'9,user27@school.edu,ES,MX,4,1001,9,99,thingamajig']"
      ]
     },
     "execution_count": 10,
     "metadata": {},
     "output_type": "execute_result"
    }
   ],
   "source": [
    "temp.take(5)"
   ]
  },
  {
   "cell_type": "code",
   "execution_count": 11,
   "metadata": {},
   "outputs": [
    {
     "data": {
      "text/plain": [
       "15"
      ]
     },
     "execution_count": 11,
     "metadata": {},
     "output_type": "execute_result"
    }
   ],
   "source": [
    "temp.count()"
   ]
  },
  {
   "cell_type": "code",
   "execution_count": 12,
   "metadata": {},
   "outputs": [
    {
     "data": {
      "text/plain": [
       "[u'19,user64@school.edu,EN,US,1,1004,19,129,whatchamacallit',\n",
       " u'19,user64@school.edu,EN,US,6,1002,19,149,gizmo',\n",
       " u'1,user1@company.com,ES,MX,11,1004,1,129,whatchamacallit',\n",
       " u'5,user12@service.io,EN,CA,13,1005,5,199,doohickey',\n",
       " u'9,user27@school.edu,ES,MX,4,1001,9,99,thingamajig',\n",
       " u'10,user31@website.net,EN,CA,2,1001,10,99,thingamajig',\n",
       " u'17,user57@school.edu,ES,MX,3,1004,17,129,whatchamacallit',\n",
       " u'22,user71@domain.com,ES,MX,9,1001,22,99,thingamajig',\n",
       " u'26,user85@service.io,HI,IN,8,1002,26,149,gizmo',\n",
       " u'3,user5@company.com,FR,FR,5,1003,3,89,gadget',\n",
       " u'7,user21@company.com,FR,FR,14,1004,7,129,whatchamacallit',\n",
       " u'30,user99@website.net,EN,US,7,1002,30,149,gizmo',\n",
       " u'16,user53@school.edu,EN,US,15,1002,16,149,gizmo',\n",
       " u'2,user4@domain.com,EN,US,12,1004,2,129,whatchamacallit',\n",
       " u'6,user17@website.net,FR,FR,10,1003,6,89,gadget']"
      ]
     },
     "execution_count": 12,
     "metadata": {},
     "output_type": "execute_result"
    }
   ],
   "source": [
    "temp.collect()"
   ]
  },
  {
   "cell_type": "markdown",
   "metadata": {},
   "source": [
    "### Count the unique locations where each product is sold?"
   ]
  },
  {
   "cell_type": "code",
   "execution_count": 13,
   "metadata": {},
   "outputs": [
    {
     "data": {
      "text/plain": [
       "[u'MX', u'CA', u'FR', u'US', u'IN']"
      ]
     },
     "execution_count": 13,
     "metadata": {},
     "output_type": "execute_result"
    }
   ],
   "source": [
    "temp.map(lambda x: x.split(\",\")[3]).distinct().take(20)"
   ]
  },
  {
   "cell_type": "code",
   "execution_count": 14,
   "metadata": {},
   "outputs": [
    {
     "data": {
      "text/plain": [
       "5"
      ]
     },
     "execution_count": 14,
     "metadata": {},
     "output_type": "execute_result"
    }
   ],
   "source": [
    "temp.map(lambda x: x.split(\",\")[3]).distinct().count()"
   ]
  },
  {
   "cell_type": "markdown",
   "metadata": {},
   "source": [
    "### Find out products bought by each user?"
   ]
  },
  {
   "cell_type": "code",
   "execution_count": 15,
   "metadata": {},
   "outputs": [
    {
     "data": {
      "text/plain": [
       "[(1, u'1004'),\n",
       " (2, u'1004'),\n",
       " (3, u'1003'),\n",
       " (5, u'1005'),\n",
       " (6, u'1003'),\n",
       " (7, u'1004'),\n",
       " (9, u'1001'),\n",
       " (10, u'1001'),\n",
       " (16, u'1002'),\n",
       " (17, u'1004'),\n",
       " (19, u'1004,1002'),\n",
       " (22, u'1001'),\n",
       " (26, u'1002'),\n",
       " (30, u'1002')]"
      ]
     },
     "execution_count": 15,
     "metadata": {},
     "output_type": "execute_result"
    }
   ],
   "source": [
    "temp.map(lambda x: x.split(\",\")).map(lambda x: (int(x[0]),x[5])).reduceByKey(lambda x, y: x+\",\"+y).sortByKey().collect()"
   ]
  },
  {
   "cell_type": "code",
   "execution_count": 16,
   "metadata": {},
   "outputs": [
    {
     "data": {
      "text/plain": [
       "[(1, [u'1004']),\n",
       " (2, [u'1004']),\n",
       " (3, [u'1003']),\n",
       " (5, [u'1005']),\n",
       " (6, [u'1003']),\n",
       " (7, [u'1004']),\n",
       " (9, [u'1001']),\n",
       " (10, [u'1001']),\n",
       " (16, [u'1002']),\n",
       " (17, [u'1004']),\n",
       " (19, [u'1004', u'1002']),\n",
       " (22, [u'1001']),\n",
       " (26, [u'1002']),\n",
       " (30, [u'1002'])]"
      ]
     },
     "execution_count": 16,
     "metadata": {},
     "output_type": "execute_result"
    }
   ],
   "source": [
    "groupedByUser = temp.map(lambda x: x.split(\",\")).map(lambda x: (x[0],x[5])).groupByKey()\n",
    "groupedByUser.map(lambda x : (int(x[0]),list(x[1]))).sortByKey().collect()"
   ]
  },
  {
   "cell_type": "markdown",
   "metadata": {},
   "source": [
    "### Total spending done by each user on each product?"
   ]
  },
  {
   "cell_type": "code",
   "execution_count": 17,
   "metadata": {},
   "outputs": [
    {
     "data": {
      "text/plain": [
       "[((1, 1004), 129),\n",
       " ((2, 1004), 129),\n",
       " ((3, 1003), 89),\n",
       " ((5, 1005), 199),\n",
       " ((6, 1003), 89),\n",
       " ((7, 1004), 129),\n",
       " ((9, 1001), 99),\n",
       " ((10, 1001), 99),\n",
       " ((16, 1002), 149),\n",
       " ((17, 1004), 129),\n",
       " ((19, 1002), 149),\n",
       " ((19, 1004), 129),\n",
       " ((22, 1001), 99),\n",
       " ((26, 1002), 149),\n",
       " ((30, 1002), 149)]"
      ]
     },
     "execution_count": 17,
     "metadata": {},
     "output_type": "execute_result"
    }
   ],
   "source": [
    "temp.map(lambda x: x.split(\",\")).map(lambda x: ((int(x[0]),int(x[5])),int(x[7]))).reduceByKey(lambda x, y: int(x)+int(y)).sortByKey().collect()"
   ]
  },
  {
   "cell_type": "code",
   "execution_count": null,
   "metadata": {
    "collapsed": true
   },
   "outputs": [],
   "source": []
  }
 ],
 "metadata": {
  "kernelspec": {
   "display_name": "Python 2",
   "language": "python",
   "name": "python2"
  },
  "language_info": {
   "codemirror_mode": {
    "name": "ipython",
    "version": 2
   },
   "file_extension": ".py",
   "mimetype": "text/x-python",
   "name": "python",
   "nbconvert_exporter": "python",
   "pygments_lexer": "ipython2",
   "version": "2.7.14"
  }
 },
 "nbformat": 4,
 "nbformat_minor": 1
}
