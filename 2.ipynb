{
 "cells": [
  {
   "cell_type": "markdown",
   "metadata": {},
   "source": [
    "#### Question 2:\n",
    "\n",
    "For this question, please make use of the attached JSON file (tweets.json). Make use of Spark SQL library to answer the following questions:\n",
    "<ol>\n",
    "<li>\tSave the dataset as a DataFrame, and print the schema.</li>\n",
    "<li>\tGet all of the tweets made by a user (any user would work. We should be able to replace user names to get tweets by that particular user).</li>\n",
    "<li>\tFind count of all tweets by each user user.</li>\n",
    "<li>\tGet a list of all of the people who are mentioned in tweets.</li>\n",
    "<li>\tCount the number of time each person is mentioned in the entire dataset of tweets.</li>\n",
    "<li>\tGive top 50 users who are mentioned the most.</li>\n",
    "<li>\tGet a list of all hashtags mentioned in the dataset.</li>\n",
    "<li>\tFind how many times each hashtag is mentioned in the dataset.</li>\n",
    "<li>\tGet a list of all of the people who are located in a particular city (e.g. Paris)</li>\n",
    "<li>\tGet country wise distribution of users, and find out which country ranks highest in terms of number of tweets, and number of users.</li>\n",
    "<li>\tFind out number of tweets where a user is from France and mentions Paris in their tweets.</li>\n",
    "</ol>\n",
    "\n",
    "\n",
    "<b>Amit Kumar Sharma<b><br>\n",
    "PGID: 71721079"
   ]
  },
  {
   "cell_type": "code",
   "execution_count": 1,
   "metadata": {
    "collapsed": true
   },
   "outputs": [],
   "source": [
    "import os\n",
    "from pyspark.sql import SQLContext,Row,functions\n",
    "from pyspark.sql.functions import split, explode,col,desc"
   ]
  },
  {
   "cell_type": "markdown",
   "metadata": {},
   "source": [
    "### Save the dataset as a DataFrame, and print the scehma?"
   ]
  },
  {
   "cell_type": "code",
   "execution_count": 2,
   "metadata": {
    "collapsed": true
   },
   "outputs": [],
   "source": [
    "os.chdir('/Users/a5sharma/Documents/ISB/BDM/HWAssignment/Assignment')\n",
    "tweets = sqlContext.read.json('file:///Users/a5sharma/Documents/ISB/BDM/HWAssignment/Assignment/data/tweets.json')"
   ]
  },
  {
   "cell_type": "code",
   "execution_count": 3,
   "metadata": {},
   "outputs": [
    {
     "name": "stdout",
     "output_type": "stream",
     "text": [
      "root\n",
      " |-- country: string (nullable = true)\n",
      " |-- id: string (nullable = true)\n",
      " |-- place: string (nullable = true)\n",
      " |-- text: string (nullable = true)\n",
      " |-- user: string (nullable = true)\n",
      "\n"
     ]
    }
   ],
   "source": [
    "tweets.printSchema()"
   ]
  },
  {
   "cell_type": "code",
   "execution_count": 4,
   "metadata": {},
   "outputs": [
    {
     "data": {
      "text/plain": [
       "8198"
      ]
     },
     "execution_count": 4,
     "metadata": {},
     "output_type": "execute_result"
    }
   ],
   "source": [
    "tweets.count()"
   ]
  },
  {
   "cell_type": "code",
   "execution_count": 5,
   "metadata": {},
   "outputs": [
    {
     "data": {
      "text/plain": [
       "['country', 'id', 'place', 'text', 'user']"
      ]
     },
     "execution_count": 5,
     "metadata": {},
     "output_type": "execute_result"
    }
   ],
   "source": [
    "tweets.columns"
   ]
  },
  {
   "cell_type": "code",
   "execution_count": 6,
   "metadata": {},
   "outputs": [
    {
     "data": {
      "text/plain": [
       "pyspark.sql.dataframe.DataFrame"
      ]
     },
     "execution_count": 6,
     "metadata": {},
     "output_type": "execute_result"
    }
   ],
   "source": [
    "type(tweets)"
   ]
  },
  {
   "cell_type": "markdown",
   "metadata": {},
   "source": [
    "### Get all of the tweets made by a user?"
   ]
  },
  {
   "cell_type": "markdown",
   "metadata": {},
   "source": [
    "#### getAllTweets method:\n",
    "\n",
    "Parameter : UserName<br>\n",
    "\n",
    "This method returns all the tweets made by a partucular user."
   ]
  },
  {
   "cell_type": "code",
   "execution_count": 7,
   "metadata": {},
   "outputs": [
    {
     "data": {
      "text/plain": [
       "DataFrame[country: string, id: string, place: string, text: string, user: string]"
      ]
     },
     "execution_count": 7,
     "metadata": {},
     "output_type": "execute_result"
    }
   ],
   "source": [
    "tweets.registerTempTable('tweets')\n",
    "tweets.cache()"
   ]
  },
  {
   "cell_type": "code",
   "execution_count": 8,
   "metadata": {},
   "outputs": [
    {
     "data": {
      "text/plain": [
       "[Row(text=u'country music taught me how a man should treat a lady')]"
      ]
     },
     "execution_count": 8,
     "metadata": {},
     "output_type": "execute_result"
    }
   ],
   "source": [
    "sqlContext.sql(\"select text from tweets where user='s a v a n n a'\").collect()"
   ]
  },
  {
   "cell_type": "code",
   "execution_count": 9,
   "metadata": {
    "collapsed": true
   },
   "outputs": [],
   "source": [
    "def getAllTweets(u):\n",
    "    sql = \"select text from tweets where user='\"+u+\"'\"\n",
    "    return sqlContext.sql(sql).rdd.map(lambda x: x.text).collect()"
   ]
  },
  {
   "cell_type": "code",
   "execution_count": 10,
   "metadata": {},
   "outputs": [
    {
     "data": {
      "text/plain": [
       "[u'country music taught me how a man should treat a lady']"
      ]
     },
     "execution_count": 10,
     "metadata": {},
     "output_type": "execute_result"
    }
   ],
   "source": [
    "getAllTweets('s a v a n n a')"
   ]
  },
  {
   "cell_type": "code",
   "execution_count": 11,
   "metadata": {},
   "outputs": [
    {
     "data": {
      "text/plain": [
       "[u\"Capital FM's Amina Discusses Octopizzo And Khaligraph Jones And Their Beef http://t.co/miJtFJ87Sn\",\n",
       " u'Suzanna Owiyo Describes An Ideal African Woman...And The Reasons Why She Will Not Lose Weight http://t.co/RxK6zhHe5a @SuzannaOwiyo',\n",
       " u'Suzanna Owiyo Describes An Ideal African Woman...And The Reasons Why She Will Not Lose Weight http://t.co/RxK6zhHe5a',\n",
       " u'This Is The Kenyan Artist That BBC Bet Their Money For. http://t.co/tSS8V8roWI @BBC',\n",
       " u'Caroline Mutoko Warns Women To Stop Calling Classic FM\\u2019s Maina Kageni http://t.co/jMcZcm7CJN @ItsMainaKageni',\n",
       " u\"Producer Behind Sauti Sol's Banned 'Nishike Video' Gives Reasons Why Kenya Needs More Of Such Videos http://t.co/nUIKRdJuXU\",\n",
       " u'Nazizi Concedes Defeat To Tanzania And Uganda...But Who Is She Laying Her Blame On? http://t.co/L8wCg1Cod4',\n",
       " u'Sauti Sol, Juliani And Other East African Artistes Congregate In The Maasai Mara! See What They Were Up To http://t.co/xOm0PGCtcQ',\n",
       " u'Caroline Mutoko Warns Women To Stop Calling Classic FM\\u2019s Maina Kageni http://t.co/jMcZcm7CJN',\n",
       " u'This Is The Kenyan Artist That BBC Bet Their Money For. http://t.co/tSS8V8roWI',\n",
       " u'Avril Dominates Once Again http://t.co/XY88POWaY8',\n",
       " u'Gloria Muliro\\u2019s Ditched Husband Goes Back To His Rural Home http://t.co/INz0bdAlml',\n",
       " u'Nazizi Concedes Defeat To Tanzania And Uganda...But Who Is She Laying Her Blame On? http://t.co/L8wCg1Cod4',\n",
       " u'Gloria Muliro\\u2019s Ditched Husband Goes Back To His Rural Home http://t.co/INz0bdAlml',\n",
       " u'Sauti Sol, Juliani And Other East African Artistes Congregate In The Maasai Mara! See What They Were Up To http://t.co/xOm0PGCtcQ',\n",
       " u'Suzanna Owiyo Describes An Ideal African Woman...And The Reasons Why She Will Not Lose Weight http://t.co/RxK6zhHe5a',\n",
       " u\"Avril's Gigantic Fundamentals Groped By Ecstatic Students (Photos) http://t.co/heoXlgo6TE\",\n",
       " u'Sauti Sol, Juliani And Other East African Artistes Congregate In The Maasai Mara! See What They Were Up To http://t.co/xOm0PGCtcQ',\n",
       " u'Sauti Sol, Juliani And Other East African Artistes Congregate In The Maasai Mara! See What They Were Up To http://t.co/xOm0PGCtcQ',\n",
       " u'Nonini\\u2019s Efforts Pay Off! See The Staggering Six Figure Amount He Managed To Raise http://t.co/AxWqRd0339',\n",
       " u'Caroline Mutoko Warns Women To Stop Calling Classic FM\\u2019s Maina Kageni http://t.co/jMcZcm7CJN @CarolineMutoko',\n",
       " u'Nazizi Concedes Defeat To Tanzania And Uganda...But Who Is She Laying Her Blame On? http://t.co/L8wCg1Cod4 @NaziziHirji',\n",
       " u'Suzanna Owiyo Describes An Ideal African Woman.And The Reasons Why She Will Not Lose Weight http://t.co/RxK6zhpCGA',\n",
       " u\"Producer Behind Sauti Sol's Banned 'Nishike Video' Gives Reasons Why Kenya Needs More Of Such Videos http://t.co/nUIKRdJuXU\",\n",
       " u'Suzanna Owiyo Describes An Ideal African Woman...And The Reasons Why She Will Not Lose Weight http://t.co/RxK6zhHe5a',\n",
       " u'Why Did Capital Fm\\u2019s Amina Leave Homeboyz Radio? Was It Because She Dated Her Boss? Here Is the Truth http://t.co/BuBosawd0L',\n",
       " u'CMB Prezzo Meets Jose Chameleone...This Is What East Africa Should Expect From The Two http://t.co/pjnRXF7JN2',\n",
       " u'Revealed: Churchill\\u2019s Other Side Hustle. The Other Job He Does Apart From Cracking Jokes http://t.co/cpu6w1DJpP',\n",
       " u'CMB Prezzo Meets Jose Chameleone...This Is What East Africa Should Expect From The Two http://t.co/pjnRXF7JN2',\n",
       " u'Nonini\\u2019s Efforts Pay Off! See The Staggering Six Figure Amount He Managed To Raise http://t.co/AxWqRd0339',\n",
       " u'Sauti Sol, Juliani And Other East African Artistes Congregate In The Maasai Mara! See What They Were Up To http://t.co/xOm0PGCtcQ',\n",
       " u'Jose Chameleone, AY And Prezzo Floss With The Red Ferrari Causing A Stir In The City (Photos) http://t.co/bpxEyNglzx',\n",
       " u\"Producer Behind Sauti Sol's Banned 'Nishike Video' Gives Reasons Why Kenya Needs More Of Such Videos http://t.co/nUIKRdJuXU @KagweMungai\",\n",
       " u'Nonini\\u2019s Efforts Pay Off! See The Staggering Six Figure Amount He Managed To Raise http://t.co/AxWqRd0339',\n",
       " u'Jose Chameleone Reveals Why He Is One Of The Richest Artistes In Africa http://t.co/175v2q4R6m',\n",
       " u'Why Did Capital Fm\\u2019s Amina Leave Homeboyz Radio? Was It Because She Dated Her Boss? Here Is the Truth http://t.co/BuBosawd0L']"
      ]
     },
     "execution_count": 11,
     "metadata": {},
     "output_type": "execute_result"
    }
   ],
   "source": [
    "getAllTweets('Ghafla.co.ke')"
   ]
  },
  {
   "cell_type": "code",
   "execution_count": 12,
   "metadata": {},
   "outputs": [
    {
     "data": {
      "text/plain": [
       "[]"
      ]
     },
     "execution_count": 12,
     "metadata": {},
     "output_type": "execute_result"
    }
   ],
   "source": [
    "getAllTweets('amit')"
   ]
  },
  {
   "cell_type": "markdown",
   "metadata": {},
   "source": [
    "### Find count of all tweets by each user?"
   ]
  },
  {
   "cell_type": "markdown",
   "metadata": {},
   "source": [
    "As there are 5967 users who tweeted, that's why I am displaying only top 50 users. "
   ]
  },
  {
   "cell_type": "code",
   "execution_count": 13,
   "metadata": {},
   "outputs": [
    {
     "data": {
      "text/plain": [
       "5967"
      ]
     },
     "execution_count": 13,
     "metadata": {},
     "output_type": "execute_result"
    }
   ],
   "source": [
    "sqlContext.sql('select user, count(text) as cnt from tweets group by user').count()"
   ]
  },
  {
   "cell_type": "code",
   "execution_count": 14,
   "metadata": {},
   "outputs": [
    {
     "data": {
      "text/plain": [
       "[Row(user=u'#QuissyUpSoon', cnt=258),\n",
       " Row(user=u'In\\xe8s Mendes Askiip \\u2665', cnt=185),\n",
       " Row(user=u'#4Rentinc', cnt=100),\n",
       " Row(user=u'MV', cnt=58),\n",
       " Row(user=u'williampriceking', cnt=46),\n",
       " Row(user=u'\\u270c Follow Me MAEJOR \\u270c', cnt=44),\n",
       " Row(user=u'Phillthy McNasty', cnt=43),\n",
       " Row(user=u'#AMNT KINGTAECRAZY', cnt=41),\n",
       " Row(user=u'K.O.H.O.R.T.S', cnt=41),\n",
       " Row(user=u'Ghafla.co.ke', cnt=36),\n",
       " Row(user=u'Ully U Music', cnt=35),\n",
       " Row(user=u'Codeclic', cnt=33),\n",
       " Row(user=u'TagineDiningGlobal', cnt=30),\n",
       " Row(user=u'Lord Dash', cnt=30),\n",
       " Row(user=u'Herri Setiawan', cnt=29),\n",
       " Row(user=u'Dell Feddi', cnt=29),\n",
       " Row(user=u'Kidrauhl Forever\\u2764', cnt=25),\n",
       " Row(user=u'Trendsmap Paris', cnt=23),\n",
       " Row(user=u'#TurnYaSneakUp', cnt=22),\n",
       " Row(user=u'Bel ', cnt=19),\n",
       " Row(user=u'Change Barcelona!', cnt=18),\n",
       " Row(user=u'Lil Shadow', cnt=17),\n",
       " Row(user=u'alec reyes', cnt=17),\n",
       " Row(user=u'arianator', cnt=15),\n",
       " Row(user=u'Music Dir. F.Herrera', cnt=14),\n",
       " Row(user=u'davidfelician', cnt=13),\n",
       " Row(user=u'TheBeachKid', cnt=12),\n",
       " Row(user=u'Terra Rising Films', cnt=12),\n",
       " Row(user=u'ST\\u2605RS RADIO 91,6 MHz', cnt=12),\n",
       " Row(user=u'Lionel Rigal', cnt=11),\n",
       " Row(user=u'Ecotour.com Deals', cnt=11),\n",
       " Row(user=u'Naijaloaded.com', cnt=10),\n",
       " Row(user=u'djmacdaddyshow', cnt=10),\n",
       " Row(user=u'@TranceAndGoodvibes', cnt=10),\n",
       " Row(user=u'Bobby Borg', cnt=9),\n",
       " Row(user=u'Levanta Brasil ', cnt=9),\n",
       " Row(user=u'Virtual Jukebox', cnt=9),\n",
       " Row(user=u'Dana Penland ', cnt=9),\n",
       " Row(user=u'30A Songwriter Radio', cnt=8),\n",
       " Row(user=u'ARS RADIO STATION', cnt=8),\n",
       " Row(user=u'Michael S. Osman', cnt=8),\n",
       " Row(user=u' DR. Kern M Quaccoo', cnt=8),\n",
       " Row(user=u'thedreamchazer\\u2122', cnt=7),\n",
       " Row(user=u'.', cnt=7),\n",
       " Row(user=u'EnigmaCG', cnt=7),\n",
       " Row(user=u'Langelihle', cnt=7),\n",
       " Row(user=u'luizko', cnt=7),\n",
       " Row(user=u'Ana', cnt=7),\n",
       " Row(user=u'Big Shot Music Group', cnt=6),\n",
       " Row(user=u'Kayla', cnt=6)]"
      ]
     },
     "execution_count": 14,
     "metadata": {},
     "output_type": "execute_result"
    }
   ],
   "source": [
    "sqlContext.sql('select user, count(text) as cnt from tweets group by user order by cnt desc').take(50)"
   ]
  },
  {
   "cell_type": "markdown",
   "metadata": {},
   "source": [
    "### Get a list of all of the people who are mentioned in tweets?"
   ]
  },
  {
   "cell_type": "code",
   "execution_count": 15,
   "metadata": {},
   "outputs": [
    {
     "name": "stdout",
     "output_type": "stream",
     "text": [
      "+---------------+\n",
      "|         people|\n",
      "+---------------+\n",
      "|  @always_nidhi|\n",
      "|       @YouTube|\n",
      "|   @OnlyDancers|\n",
      "|@IcelandNatural|\n",
      "|       @AdeRais|\n",
      "|      @BeezyDH_|\n",
      "|  @blakeshelton|\n",
      "|  @DjGregStreet|\n",
      "|     @traceyb65|\n",
      "|     @hokkazonn|\n",
      "+---------------+\n",
      "only showing top 10 rows\n",
      "\n"
     ]
    }
   ],
   "source": [
    "tweets.select(explode(split(tweets.text, ' ')).alias('people')).where(\"people like '@%'\").show(10)"
   ]
  },
  {
   "cell_type": "code",
   "execution_count": 16,
   "metadata": {},
   "outputs": [
    {
     "data": {
      "text/plain": [
       "[u'always_nidhi',\n",
       " u'YouTube',\n",
       " u'OnlyDancers',\n",
       " u'IcelandNatural',\n",
       " u'AdeRais',\n",
       " u'BeezyDH_',\n",
       " u'blakeshelton',\n",
       " u'DjGregStreet',\n",
       " u'traceyb65',\n",
       " u'hokkazonn']"
      ]
     },
     "execution_count": 16,
     "metadata": {},
     "output_type": "execute_result"
    }
   ],
   "source": [
    "sqlContext.sql(\"select text from tweets where text like '%@%' and length(text) > 1\").rdd.flatMap(lambda s: s.text.split(\" \")).filter(lambda w : w.startswith('@')).map(lambda x: x.split('@')[1]).take(10)"
   ]
  },
  {
   "cell_type": "code",
   "execution_count": 17,
   "metadata": {},
   "outputs": [
    {
     "data": {
      "text/plain": [
       "[u'@always_nidhi',\n",
       " u'@YouTube',\n",
       " u'@OnlyDancers',\n",
       " u'@IcelandNatural',\n",
       " u'@AdeRais',\n",
       " u'@BeezyDH_',\n",
       " u'@blakeshelton',\n",
       " u'@DjGregStreet',\n",
       " u'@traceyb65',\n",
       " u'@hokkazonn']"
      ]
     },
     "execution_count": 17,
     "metadata": {},
     "output_type": "execute_result"
    }
   ],
   "source": [
    "tweets.rdd.flatMap(lambda s: s.text.split(\" \")).filter(lambda w : w.startswith('@')).take(10)"
   ]
  },
  {
   "cell_type": "markdown",
   "metadata": {},
   "source": [
    "### Count the number of time each person is mentioned in the entire dataset of tweets?"
   ]
  },
  {
   "cell_type": "code",
   "execution_count": 18,
   "metadata": {},
   "outputs": [
    {
     "name": "stdout",
     "output_type": "stream",
     "text": [
      "+----------------+-----+\n",
      "|          people|count|\n",
      "+----------------+-----+\n",
      "|    @ShawnMendes|  189|\n",
      "|  @HIITMANonDECK|  100|\n",
      "|@officialdjjuice|   59|\n",
      "|         @MAEJOR|   45|\n",
      "|    @MR_JAYJONES|   41|\n",
      "|       @MeekMill|   35|\n",
      "|@MadisonElleBeer|   30|\n",
      "|              @…|   28|\n",
      "|     @DjLordDash|   27|\n",
      "|     @NICKIMINAJ|   25|\n",
      "+----------------+-----+\n",
      "only showing top 10 rows\n",
      "\n"
     ]
    }
   ],
   "source": [
    "def wordCount(wordListDF):\n",
    "    return wordListDF.groupBy('people').count()\n",
    "\n",
    "peopleDF = tweets.select(explode(split(tweets.text, ' ')).alias('people')).where(\"people like '@%' and people !='@'\")\n",
    "\n",
    "topWordsAndCountsDF = wordCount(peopleDF).orderBy(\"count\", ascending=False)\n",
    "topWordsAndCountsDF.show(10)"
   ]
  },
  {
   "cell_type": "code",
   "execution_count": 19,
   "metadata": {},
   "outputs": [
    {
     "data": {
      "text/plain": [
       "[(u'ShawnMendes', 189),\n",
       " (u'HIITMANonDECK', 100),\n",
       " (u'officialdjjuice', 59),\n",
       " (u'MAEJOR', 45),\n",
       " (u'MR_JAYJONES', 41),\n",
       " (u'MeekMill', 35),\n",
       " (u'MadisonElleBeer', 30),\n",
       " (u'\\u2026', 28),\n",
       " (u'DjLordDash', 27),\n",
       " (u'NICKIMINAJ', 25)]"
      ]
     },
     "execution_count": 19,
     "metadata": {},
     "output_type": "execute_result"
    }
   ],
   "source": [
    "per = tweets.rdd.flatMap(lambda s: s.text.split(\" \")).filter(lambda w : w.startswith('@')).filter(lambda w: len(w) > 1)\n",
    "per.map(lambda x: (x[1:],1)).reduceByKey(lambda x, y : x+y).sortBy(lambda x: x[1], ascending=False).take(10)"
   ]
  },
  {
   "cell_type": "markdown",
   "metadata": {},
   "source": [
    "### Give top 50 users who are mentioned the most?"
   ]
  },
  {
   "cell_type": "code",
   "execution_count": 20,
   "metadata": {},
   "outputs": [
    {
     "name": "stdout",
     "output_type": "stream",
     "text": [
      "+----------------+-----+\n",
      "|          people|count|\n",
      "+----------------+-----+\n",
      "|    @ShawnMendes|  189|\n",
      "|  @HIITMANonDECK|  100|\n",
      "|@officialdjjuice|   59|\n",
      "|         @MAEJOR|   45|\n",
      "|    @MR_JAYJONES|   41|\n",
      "|       @MeekMill|   35|\n",
      "|@MadisonElleBeer|   30|\n",
      "|              @…|   28|\n",
      "|     @DjLordDash|   27|\n",
      "|     @NICKIMINAJ|   25|\n",
      "|        @ODTDANK|   17|\n",
      "|    @waveyboyjam|   17|\n",
      "| @OwehMuhammad24|   12|\n",
      "|      @Spinrilla|   12|\n",
      "|     @nascarrnat|   12|\n",
      "|     @wizkhalifa|   12|\n",
      "|    @ParisHilton|   10|\n",
      "|  @therealjuicyj|   10|\n",
      "|   @justinbieber|   10|\n",
      "|@JackJackJohnson|    9|\n",
      "|  @taylorswift13|    9|\n",
      "|   @ArianaGrande|    8|\n",
      "|     @maliachigh|    7|\n",
      "| @PapychuroBwege|    7|\n",
      "|  @ceejayseniour|    7|\n",
      "|   @connectgares|    7|\n",
      "|     @KeithUrban|    6|\n",
      "|@1000HillsCoffee|    6|\n",
      "|   @waziridello1|    6|\n",
      "|   @TRANSTV_CORP|    6|\n",
      "|   @jackgilinsky|    6|\n",
      "|      @KlevaHH4L|    6|\n",
      "|        @Madonna|    5|\n",
      "| @aeroportsparis|    5|\n",
      "|   @blakeshelton|    5|\n",
      "|          @diplo|    5|\n",
      "|    @DulyMisuly2|    5|\n",
      "|  @samsmithworld|    5|\n",
      "|      @PrillyBie|    5|\n",
      "|  @dominicslowie|    5|\n",
      "|        @YouTube|    5|\n",
      "|  @Mathiasedson1|    5|\n",
      "|    @CodySimpson|    5|\n",
      "|    @NBCTheVoice|    5|\n",
      "|  @bretteldredge|    4|\n",
      "|         @9Gotti|    4|\n",
      "|       @Luke5SOS|    4|\n",
      "|         @BDozen|    4|\n",
      "|   @Harry_Styles|    4|\n",
      "|  @SMTOWNGLOBAL:|    4|\n",
      "+----------------+-----+\n",
      "only showing top 50 rows\n",
      "\n"
     ]
    }
   ],
   "source": [
    "topWordsAndCountsDF.show(50)"
   ]
  },
  {
   "cell_type": "code",
   "execution_count": 21,
   "metadata": {},
   "outputs": [
    {
     "data": {
      "text/plain": [
       "[(189, u'@ShawnMendes'),\n",
       " (100, u'@HIITMANonDECK'),\n",
       " (59, u'@officialdjjuice'),\n",
       " (45, u'@MAEJOR'),\n",
       " (41, u'@MR_JAYJONES'),\n",
       " (35, u'@MeekMill'),\n",
       " (30, u'@MadisonElleBeer'),\n",
       " (28, u'@\\u2026'),\n",
       " (27, u'@DjLordDash'),\n",
       " (25, u'@NICKIMINAJ'),\n",
       " (17, u'@ODTDANK'),\n",
       " (17, u'@waveyboyjam'),\n",
       " (12, u'@Spinrilla'),\n",
       " (12, u'@wizkhalifa'),\n",
       " (12, u'@OwehMuhammad24'),\n",
       " (12, u'@nascarrnat'),\n",
       " (10, u'@ParisHilton'),\n",
       " (10, u'@justinbieber'),\n",
       " (10, u'@therealjuicyj'),\n",
       " (9, u'@JackJackJohnson'),\n",
       " (9, u'@taylorswift13'),\n",
       " (8, u'@ArianaGrande'),\n",
       " (7, u'@ceejayseniour'),\n",
       " (7, u'@connectgares'),\n",
       " (7, u'@maliachigh'),\n",
       " (7, u'@PapychuroBwege'),\n",
       " (6, u'@TRANSTV_CORP'),\n",
       " (6, u'@waziridello1'),\n",
       " (6, u'@KeithUrban'),\n",
       " (6, u'@KlevaHH4L'),\n",
       " (6, u'@1000HillsCoffee'),\n",
       " (6, u'@jackgilinsky'),\n",
       " (5, u'@samsmithworld'),\n",
       " (5, u'@aeroportsparis'),\n",
       " (5, u'@Mathiasedson1'),\n",
       " (5, u'@PrillyBie'),\n",
       " (5, u'@NBCTheVoice'),\n",
       " (5, u'@dominicslowie'),\n",
       " (5, u'@CodySimpson'),\n",
       " (5, u'@YouTube'),\n",
       " (5, u'@diplo'),\n",
       " (5, u'@blakeshelton'),\n",
       " (5, u'@Madonna'),\n",
       " (5, u'@DulyMisuly2'),\n",
       " (4, u'@Luke5SOS'),\n",
       " (4, u'@WeAreRockCity'),\n",
       " (4, u'@psybersind'),\n",
       " (4, u'@SMTOWNGLOBAL:'),\n",
       " (4, u'@maroon5'),\n",
       " (4, u'@londonsymphony')]"
      ]
     },
     "execution_count": 21,
     "metadata": {},
     "output_type": "execute_result"
    }
   ],
   "source": [
    "person = tweets.rdd.flatMap(lambda s: s.text.split(\" \")).filter(lambda w : w.startswith('@')).filter(lambda w: len(w) > 1)\n",
    "person.map(lambda x: (x,1)).reduceByKey(lambda x, y: x+y).map(lambda x: (x[1],x[0])).sortByKey(ascending=False).take(50)"
   ]
  },
  {
   "cell_type": "markdown",
   "metadata": {},
   "source": [
    "### Get a list of all hashtags mentioned in the dataset?"
   ]
  },
  {
   "cell_type": "code",
   "execution_count": 22,
   "metadata": {},
   "outputs": [
    {
     "name": "stdout",
     "output_type": "stream",
     "text": [
      "+-------------------+\n",
      "|            hashtag|\n",
      "+-------------------+\n",
      "|    #shutUpAndDANCE|\n",
      "|            #SHINee|\n",
      "|#AMBER(@llama_ajol)|\n",
      "|              #JR50|\n",
      "|         #flipagram|\n",
      "|               #DME|\n",
      "|          #ROADBOYZ|\n",
      "|      #QuissyUpSoon|\n",
      "|        #nowplaying|\n",
      "|            ##\n",
      "\n",
      "Why|\n",
      "|          #iloveyou|\n",
      "+-------------------+\n",
      "only showing top 11 rows\n",
      "\n"
     ]
    }
   ],
   "source": [
    "def wordCount(wordListDF):\n",
    "    return wordListDF.groupBy('hashtag').count()\n",
    "\n",
    "peopleDF = tweets.select(explode(split(tweets.text, ' ')).alias('hashtag')).where(\"hashtag like '#%'\")\n",
    "peopleDF.show(11)"
   ]
  },
  {
   "cell_type": "code",
   "execution_count": 23,
   "metadata": {},
   "outputs": [
    {
     "data": {
      "text/plain": [
       "[u'#shutUpAndDANCE',\n",
       " u'#SHINee',\n",
       " u'#AMBER(@llama_ajol)',\n",
       " u'#JR50',\n",
       " u'#flipagram',\n",
       " u'#DME',\n",
       " u'#ROADBOYZ',\n",
       " u'#QuissyUpSoon',\n",
       " u'#nowplaying',\n",
       " u'##\\n\\nWhy',\n",
       " u'#iloveyou']"
      ]
     },
     "execution_count": 23,
     "metadata": {},
     "output_type": "execute_result"
    }
   ],
   "source": [
    "tweets.rdd.flatMap(lambda s: s.text.split(\" \")).filter(lambda w : w.startswith('#')).filter(lambda w: len(w) > 1).take(11)"
   ]
  },
  {
   "cell_type": "markdown",
   "metadata": {},
   "source": [
    "### Find how many times each hashtag is mentioned in the dataset?"
   ]
  },
  {
   "cell_type": "code",
   "execution_count": 24,
   "metadata": {},
   "outputs": [
    {
     "name": "stdout",
     "output_type": "stream",
     "text": [
      "+-------------------+-----+\n",
      "|            hashtag|count|\n",
      "+-------------------+-----+\n",
      "|               #DME|  253|\n",
      "|          #ROADBOYZ|  251|\n",
      "|             #music|  236|\n",
      "|             #Paris|  144|\n",
      "|#QuissyUpSoon🔥🔥💯|  129|\n",
      "|      #QuissyUpSoon|  120|\n",
      "| #Trippythursdaymia|  100|\n",
      "|             #Music|   84|\n",
      "|    #MaejorMeAndYou|   44|\n",
      "|              #IGGL|   41|\n",
      "+-------------------+-----+\n",
      "only showing top 10 rows\n",
      "\n"
     ]
    }
   ],
   "source": [
    "topWordsAndCountsDF = wordCount(peopleDF).orderBy(\"count\", ascending=False)\n",
    "topWordsAndCountsDF.show(10)"
   ]
  },
  {
   "cell_type": "code",
   "execution_count": 25,
   "metadata": {},
   "outputs": [
    {
     "data": {
      "text/plain": [
       "[(u'#DME', 253),\n",
       " (u'#ROADBOYZ', 251),\n",
       " (u'#music', 236),\n",
       " (u'#Paris', 144),\n",
       " (u'#QuissyUpSoon\\U0001f525\\U0001f525\\U0001f4af', 129),\n",
       " (u'#QuissyUpSoon', 120),\n",
       " (u'#Trippythursdaymia', 100),\n",
       " (u'#Music', 84),\n",
       " (u'#MaejorMeAndYou', 44),\n",
       " (u'#StuntTeam', 41)]"
      ]
     },
     "execution_count": 25,
     "metadata": {},
     "output_type": "execute_result"
    }
   ],
   "source": [
    "hashtag = tweets.rdd.flatMap(lambda s: s.text.split(\" \")).filter(lambda w : w.startswith('#')).filter(lambda w: len(w) > 1)\n",
    "hashtag.map(lambda x: (x,1)).reduceByKey(lambda x, y : x+y).sortBy(lambda x: x[1], ascending=False).take(10)"
   ]
  },
  {
   "cell_type": "markdown",
   "metadata": {},
   "source": [
    "### Get a list of all of the people who are located in a particular city?"
   ]
  },
  {
   "cell_type": "markdown",
   "metadata": {},
   "source": [
    "#### getAllUsers method:\n",
    "\n",
    "Parameter : CityName\n",
    "\n",
    "This method returns all the users who are located in a particular city."
   ]
  },
  {
   "cell_type": "code",
   "execution_count": 26,
   "metadata": {
    "collapsed": true
   },
   "outputs": [],
   "source": [
    "def getAllUsers(city):\n",
    "    sql = \"select distinct user from tweets where place='\"+city+\"'\"\n",
    "    return sqlContext.sql(sql).rdd.map(lambda x: x.user).collect()"
   ]
  },
  {
   "cell_type": "code",
   "execution_count": 27,
   "metadata": {},
   "outputs": [
    {
     "data": {
      "text/plain": [
       "[u'Alexander Lewis',\n",
       " u'Thomas Stone',\n",
       " u'David Przybilla',\n",
       " u'genny drinkwater',\n",
       " u'LL',\n",
       " u'Garey [G Money] ',\n",
       " u'Samuel A Moppett',\n",
       " u'519 iIreland',\n",
       " u'Poonnn',\n",
       " u'Askonas Holt',\n",
       " u'MellowRema',\n",
       " u'leif womack',\n",
       " u'BAKU',\n",
       " u'THC OUT NOWW!!',\n",
       " u'Ally Beaton',\n",
       " u'TheButterflyCrosses ',\n",
       " u'Alexandra Vaiay',\n",
       " u'LDNMayor Culture',\n",
       " u'Fatin Rozaili',\n",
       " u'Anil kumar',\n",
       " u'Ivan',\n",
       " u'Farah Tuffaha',\n",
       " u'PredictionIO',\n",
       " u'wyd??']"
      ]
     },
     "execution_count": 27,
     "metadata": {},
     "output_type": "execute_result"
    }
   ],
   "source": [
    "getAllUsers('London')"
   ]
  },
  {
   "cell_type": "code",
   "execution_count": 28,
   "metadata": {},
   "outputs": [
    {
     "data": {
      "text/plain": [
       "[u'glamsham.com',\n",
       " u'ArtistAloud.com',\n",
       " u'Amaresh Patnaik',\n",
       " u'Neha Pai',\n",
       " u'Ashima Saxena',\n",
       " u'shubham',\n",
       " u'Hrishikesh J. Chury',\n",
       " u'Brendon Faleiro',\n",
       " u'SINGER MINTU',\n",
       " u'D@ttu ',\n",
       " u'Shloka']"
      ]
     },
     "execution_count": 28,
     "metadata": {},
     "output_type": "execute_result"
    }
   ],
   "source": [
    "getAllUsers('Mumbai')"
   ]
  },
  {
   "cell_type": "markdown",
   "metadata": {},
   "source": [
    "### Get country wise distribution of users, and find out which country ranks highest in terms of number of tweets, and number of users?"
   ]
  },
  {
   "cell_type": "markdown",
   "metadata": {},
   "source": [
    "Some countries name are not in english, that's why using encode function to convert non-english characters to english characters."
   ]
  },
  {
   "cell_type": "code",
   "execution_count": 29,
   "metadata": {
    "collapsed": true
   },
   "outputs": [],
   "source": [
    "import unicodedata\n",
    "import pyspark.sql.functions as func"
   ]
  },
  {
   "cell_type": "code",
   "execution_count": 30,
   "metadata": {},
   "outputs": [
    {
     "data": {
      "text/plain": [
       "[Row(country=u'United States', tweets_cnt=4841, user_cnt=3595),\n",
       " Row(country=u'France', tweets_cnt=737, user_cnt=377),\n",
       " Row(country=u'United Kingdom', tweets_cnt=365, user_cnt=301),\n",
       " Row(country=u'Indonesia', tweets_cnt=370, user_cnt=278),\n",
       " Row(country=u'Brasil', tweets_cnt=256, user_cnt=183),\n",
       " Row(country=u'Canada', tweets_cnt=172, user_cnt=154),\n",
       " Row(country=u'Republika ng Pilipinas', tweets_cnt=151, user_cnt=127),\n",
       " Row(country=u'Australia', tweets_cnt=90, user_cnt=77),\n",
       " Row(country=u'South Africa', tweets_cnt=92, user_cnt=73),\n",
       " Row(country=u'Argentina', tweets_cnt=104, user_cnt=57),\n",
       " Row(country=u'India', tweets_cnt=66, user_cnt=56),\n",
       " Row(country=u'??', tweets_cnt=57, user_cnt=52),\n",
       " Row(country=u'M?xico', tweets_cnt=59, user_cnt=47),\n",
       " Row(country=u'Malaysia', tweets_cnt=50, user_cnt=37),\n",
       " Row(country=u'T?rkiye', tweets_cnt=42, user_cnt=36),\n",
       " Row(country=u'Espa?a', tweets_cnt=53, user_cnt=32),\n",
       " Row(country=u'?????????', tweets_cnt=31, user_cnt=31),\n",
       " Row(country=u'Colombia', tweets_cnt=33, user_cnt=27),\n",
       " Row(country=u'Nederland', tweets_cnt=25, user_cnt=23),\n",
       " Row(country=u'Deutschland', tweets_cnt=24, user_cnt=23),\n",
       " Row(country=u'Nigeria', tweets_cnt=33, user_cnt=22),\n",
       " Row(country=u'Italia', tweets_cnt=30, user_cnt=22),\n",
       " Row(country=u'Ireland', tweets_cnt=29, user_cnt=20),\n",
       " Row(country=u'New Zealand', tweets_cnt=22, user_cnt=18),\n",
       " Row(country=u'Chile', tweets_cnt=16, user_cnt=16),\n",
       " Row(country=u'Jamaica', tweets_cnt=12, user_cnt=12),\n",
       " Row(country=u'Rossiya', tweets_cnt=12, user_cnt=11),\n",
       " Row(country=u'Singapore', tweets_cnt=11, user_cnt=11),\n",
       " Row(country=u'Belgi?', tweets_cnt=11, user_cnt=11),\n",
       " Row(country=u'Schweiz', tweets_cnt=13, user_cnt=10),\n",
       " Row(country=u'Sverige', tweets_cnt=13, user_cnt=10),\n",
       " Row(country=u'Venezuela', tweets_cnt=12, user_cnt=10),\n",
       " Row(country=u'Dominican Republic', tweets_cnt=12, user_cnt=10),\n",
       " Row(country=u'Kenya', tweets_cnt=44, user_cnt=9),\n",
       " Row(country=u'Ghana', tweets_cnt=38, user_cnt=9),\n",
       " Row(country=u'????', tweets_cnt=11, user_cnt=8),\n",
       " Row(country=u'???????? ??????? ???????', tweets_cnt=9, user_cnt=7),\n",
       " Row(country=u'??????? ??????? ????????', tweets_cnt=7, user_cnt=7),\n",
       " Row(country=u'Panama', tweets_cnt=7, user_cnt=7),\n",
       " Row(country=u'Norge', tweets_cnt=7, user_cnt=6),\n",
       " Row(country=u'Ecuador', tweets_cnt=6, user_cnt=6),\n",
       " Row(country=u'??????? ???????? ????????', tweets_cnt=11, user_cnt=5),\n",
       " Row(country=u'Portugal', tweets_cnt=10, user_cnt=5),\n",
       " Row(country=u'?????', tweets_cnt=7, user_cnt=5),\n",
       " Row(country=u'Suomi', tweets_cnt=6, user_cnt=5),\n",
       " Row(country=u'?????', tweets_cnt=5, user_cnt=5),\n",
       " Row(country=u'?sterreich', tweets_cnt=5, user_cnt=5),\n",
       " Row(country=u'Hellas', tweets_cnt=5, user_cnt=5),\n",
       " Row(country=u'Tanzania', tweets_cnt=16, user_cnt=4),\n",
       " Row(country=u'Peru', tweets_cnt=6, user_cnt=4)]"
      ]
     },
     "execution_count": 30,
     "metadata": {},
     "output_type": "execute_result"
    }
   ],
   "source": [
    "s2 = sqlContext.sql(\"select encode(country,'US-ASCII') country, count(distinct user) user_cnt, count(text) tweets_cnt from tweets group by country order by user_cnt desc, tweets_cnt desc\")\n",
    "s2.rdd.map(lambda s: Row(country = s.country.decode(), user_cnt = s.user_cnt, tweets_cnt=s.tweets_cnt)).take(50)"
   ]
  },
  {
   "cell_type": "code",
   "execution_count": 31,
   "metadata": {},
   "outputs": [
    {
     "data": {
      "text/plain": [
       "119"
      ]
     },
     "execution_count": 31,
     "metadata": {},
     "output_type": "execute_result"
    }
   ],
   "source": [
    "s2.count()"
   ]
  },
  {
   "cell_type": "markdown",
   "metadata": {},
   "source": [
    "### Find out number of tweets where a user is from France and mentions Paris in their tweets?"
   ]
  },
  {
   "cell_type": "code",
   "execution_count": 32,
   "metadata": {},
   "outputs": [
    {
     "data": {
      "text/plain": [
       "[Row(text=u'@Ashton5SOS be more excited for the show in Paris \\U0001f60e\\U0001f60d\\U0001f60f\\U0001f601\\U0001f1eb\\U0001f1f7\\U0001f1eb\\U0001f1f7\\U0001f1eb\\U0001f1f7 !!!'),\n",
       " Row(text=u\"'pivert', 'usagers' et 'biodiversit\\xe9' est d\\xe9sormais une tendance dans #Paris http://t.co/JhhMB0UzO7\"),\n",
       " Row(text=u'@jhornain D\\xe9couvrez les derniers taux de r\\xe9ussite des auto-\\xe9coles \\xe0 #Paris : http://t.co/q5sDKvD9Dp http://t.co/TLCMk7Wq6L'),\n",
       " Row(text=u'Happy campers! #DisneyParks #Paris @ Disneyland Paris https://t.co/Vpf50bA3qX'),\n",
       " Row(text=u\"@YFEFRANCE Hey! YFE, c'est pas le genre de msique que j'\\xe9coute ms c'est bien! J'irai donc les voir gd ils passeront \\xe0 Paris.Riennevautlelive\"),\n",
       " Row(text=u'Op\\xe9ra Garnier Paris @operadeparis : exposition Rameau (1683-1764) jusqu\\u2019au 22 mars magique http://t.co/PtiWDoYBEU http://t.co/7XZvHfj1B5\"'),\n",
       " Row(text=u'#Disneyland #Paris @ Disneyland Paris https://t.co/GNZzUMdAvV'),\n",
       " Row(text=u'd\\xe9part pour Paris \\U0001f684'),\n",
       " Row(text=u'#Passing the #cafe du M\\xe9tro, #Paris @ Caf\\xe9 du M\\xe9tro https://t.co/BuguC87vBj'),\n",
       " Row(text=u\"I'm at ESP - Salle 1&2 in Paris, France w/ @chrissnts https://t.co/7S4JEDveae\")]"
      ]
     },
     "execution_count": 32,
     "metadata": {},
     "output_type": "execute_result"
    }
   ],
   "source": [
    "sqlContext.sql(\"select text from tweets where country='France' and text like '%Paris%'\").take(10)"
   ]
  },
  {
   "cell_type": "code",
   "execution_count": 33,
   "metadata": {},
   "outputs": [
    {
     "data": {
      "text/plain": [
       "[Row(cnt=403)]"
      ]
     },
     "execution_count": 33,
     "metadata": {},
     "output_type": "execute_result"
    }
   ],
   "source": [
    "sqlContext.sql(\"select count(1) cnt from tweets where country='France' and text like '%Paris%'\").collect()"
   ]
  },
  {
   "cell_type": "code",
   "execution_count": null,
   "metadata": {
    "collapsed": true
   },
   "outputs": [],
   "source": []
  }
 ],
 "metadata": {
  "kernelspec": {
   "display_name": "Python 2",
   "language": "python",
   "name": "python2"
  },
  "language_info": {
   "codemirror_mode": {
    "name": "ipython",
    "version": 2
   },
   "file_extension": ".py",
   "mimetype": "text/x-python",
   "name": "python",
   "nbconvert_exporter": "python",
   "pygments_lexer": "ipython2",
   "version": "2.7.14"
  }
 },
 "nbformat": 4,
 "nbformat_minor": 1
}
